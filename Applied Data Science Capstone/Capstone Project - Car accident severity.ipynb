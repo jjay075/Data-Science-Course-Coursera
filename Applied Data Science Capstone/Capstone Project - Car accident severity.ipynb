{
 "cells": [
  {
   "cell_type": "markdown",
   "metadata": {},
   "source": [
    "#               Car accident severity"
   ]
  },
  {
   "cell_type": "markdown",
   "metadata": {},
   "source": [
    "## Introduction"
   ]
  },
  {
   "cell_type": "markdown",
   "metadata": {},
   "source": [
    "The Seattle government is going to prevent avoidable car accidents by employing methods that alert drivers, health system, and police to remind them to be more careful in critical situations.\n",
    "\n",
    "In most cases, not paying enough attention during driving, abusing drugs and alcohol or driving at very high speed are the main causes of occurring accidents that can be prevented by enacting harsher regulations. Besides the aforementioned reasons, weather, visibility, or road conditions are the major uncontrollable factors that can be prevented by revealing hidden patterns in the data and announcing warning to the local government, police and drivers on the targeted roads.\n",
    "\n",
    "The target audience of the project is local Seattle government, police, rescue groups, and last but not least, car insurance institutes. The model and its results are going to provide some advice for the target audience to make insightful decisions for reducing the number of accidents and injuries for the city."
   ]
  },
  {
   "cell_type": "code",
   "execution_count": 1,
   "metadata": {},
   "outputs": [],
   "source": [
    "import numpy as np\n",
    "import matplotlib.pyplot as plt\n",
    "import pandas as pd\n",
    "import numpy as np\n",
    "import time\n",
    "import concurrent.futures\n",
    "import multiprocessing\n",
    "num_processes = multiprocessing.cpu_count()\n",
    "global_starttime = time.time()\n",
    "from tqdm.auto import tqdm, trange\n",
    "import matplotlib.ticker as ticker\n",
    "from sklearn import preprocessing\n",
    "import seaborn as sns\n",
    "%matplotlib inline"
   ]
  },
  {
   "cell_type": "markdown",
   "metadata": {},
   "source": [
    "## Data Acquistion"
   ]
  },
  {
   "cell_type": "markdown",
   "metadata": {},
   "source": [
    "\n",
    "The data was collected by the Seattle Police Department and Accident Traffic Records Department from 2004 to present. The data consists of 37 independent variables and 194,673 rows. The dependent variable, “SEVERITYCODE”, contains numbers that correspond to different levels of severity caused by an accident from 0 to 3.\n",
    "\n",
    "A code that corresponds to the severity of the collision: \n",
    "\n",
    "• 3—fatality \n",
    "\n",
    "• 2b—serious injury\n",
    "\n",
    "• 2—injury \n",
    "\n",
    "• 1—prop damage\n",
    "\n",
    "• 0—unknown\n",
    "\n",
    "To accurately build a model to prevent future accidents and/or reduce their severity, we will use the following attributes — ADDRTYPE, WEATHER, ROADCOND, VEHCOUNT, PERSONCOUNT.\n"
   ]
  },
  {
   "cell_type": "markdown",
   "metadata": {},
   "source": [
    "#### Load Data From CSV File"
   ]
  },
  {
   "cell_type": "code",
   "execution_count": 2,
   "metadata": {},
   "outputs": [
    {
     "name": "stderr",
     "output_type": "stream",
     "text": [
      "C:\\Users\\JAY\\Anaconda3\\lib\\site-packages\\IPython\\core\\interactiveshell.py:3063: DtypeWarning: Columns (33) have mixed types.Specify dtype option on import or set low_memory=False.\n",
      "  interactivity=interactivity, compiler=compiler, result=result)\n"
     ]
    }
   ],
   "source": [
    "data_df = pd.read_csv(\"Data-Collisions.csv\")"
   ]
  },
  {
   "cell_type": "code",
   "execution_count": 3,
   "metadata": {},
   "outputs": [
    {
     "data": {
      "text/html": [
       "<div>\n",
       "<style scoped>\n",
       "    .dataframe tbody tr th:only-of-type {\n",
       "        vertical-align: middle;\n",
       "    }\n",
       "\n",
       "    .dataframe tbody tr th {\n",
       "        vertical-align: top;\n",
       "    }\n",
       "\n",
       "    .dataframe thead th {\n",
       "        text-align: right;\n",
       "    }\n",
       "</style>\n",
       "<table border=\"1\" class=\"dataframe\">\n",
       "  <thead>\n",
       "    <tr style=\"text-align: right;\">\n",
       "      <th></th>\n",
       "      <th>SEVERITYCODE</th>\n",
       "      <th>X</th>\n",
       "      <th>Y</th>\n",
       "      <th>OBJECTID</th>\n",
       "      <th>INCKEY</th>\n",
       "      <th>COLDETKEY</th>\n",
       "      <th>REPORTNO</th>\n",
       "      <th>STATUS</th>\n",
       "      <th>ADDRTYPE</th>\n",
       "      <th>INTKEY</th>\n",
       "      <th>...</th>\n",
       "      <th>ROADCOND</th>\n",
       "      <th>LIGHTCOND</th>\n",
       "      <th>PEDROWNOTGRNT</th>\n",
       "      <th>SDOTCOLNUM</th>\n",
       "      <th>SPEEDING</th>\n",
       "      <th>ST_COLCODE</th>\n",
       "      <th>ST_COLDESC</th>\n",
       "      <th>SEGLANEKEY</th>\n",
       "      <th>CROSSWALKKEY</th>\n",
       "      <th>HITPARKEDCAR</th>\n",
       "    </tr>\n",
       "  </thead>\n",
       "  <tbody>\n",
       "    <tr>\n",
       "      <th>0</th>\n",
       "      <td>2</td>\n",
       "      <td>-122.323148</td>\n",
       "      <td>47.703140</td>\n",
       "      <td>1</td>\n",
       "      <td>1307</td>\n",
       "      <td>1307</td>\n",
       "      <td>3502005</td>\n",
       "      <td>Matched</td>\n",
       "      <td>Intersection</td>\n",
       "      <td>37475.0</td>\n",
       "      <td>...</td>\n",
       "      <td>Wet</td>\n",
       "      <td>Daylight</td>\n",
       "      <td>NaN</td>\n",
       "      <td>NaN</td>\n",
       "      <td>NaN</td>\n",
       "      <td>10</td>\n",
       "      <td>Entering at angle</td>\n",
       "      <td>0</td>\n",
       "      <td>0</td>\n",
       "      <td>N</td>\n",
       "    </tr>\n",
       "    <tr>\n",
       "      <th>1</th>\n",
       "      <td>1</td>\n",
       "      <td>-122.347294</td>\n",
       "      <td>47.647172</td>\n",
       "      <td>2</td>\n",
       "      <td>52200</td>\n",
       "      <td>52200</td>\n",
       "      <td>2607959</td>\n",
       "      <td>Matched</td>\n",
       "      <td>Block</td>\n",
       "      <td>NaN</td>\n",
       "      <td>...</td>\n",
       "      <td>Wet</td>\n",
       "      <td>Dark - Street Lights On</td>\n",
       "      <td>NaN</td>\n",
       "      <td>6354039.0</td>\n",
       "      <td>NaN</td>\n",
       "      <td>11</td>\n",
       "      <td>From same direction - both going straight - bo...</td>\n",
       "      <td>0</td>\n",
       "      <td>0</td>\n",
       "      <td>N</td>\n",
       "    </tr>\n",
       "    <tr>\n",
       "      <th>2</th>\n",
       "      <td>1</td>\n",
       "      <td>-122.334540</td>\n",
       "      <td>47.607871</td>\n",
       "      <td>3</td>\n",
       "      <td>26700</td>\n",
       "      <td>26700</td>\n",
       "      <td>1482393</td>\n",
       "      <td>Matched</td>\n",
       "      <td>Block</td>\n",
       "      <td>NaN</td>\n",
       "      <td>...</td>\n",
       "      <td>Dry</td>\n",
       "      <td>Daylight</td>\n",
       "      <td>NaN</td>\n",
       "      <td>4323031.0</td>\n",
       "      <td>NaN</td>\n",
       "      <td>32</td>\n",
       "      <td>One parked--one moving</td>\n",
       "      <td>0</td>\n",
       "      <td>0</td>\n",
       "      <td>N</td>\n",
       "    </tr>\n",
       "    <tr>\n",
       "      <th>3</th>\n",
       "      <td>1</td>\n",
       "      <td>-122.334803</td>\n",
       "      <td>47.604803</td>\n",
       "      <td>4</td>\n",
       "      <td>1144</td>\n",
       "      <td>1144</td>\n",
       "      <td>3503937</td>\n",
       "      <td>Matched</td>\n",
       "      <td>Block</td>\n",
       "      <td>NaN</td>\n",
       "      <td>...</td>\n",
       "      <td>Dry</td>\n",
       "      <td>Daylight</td>\n",
       "      <td>NaN</td>\n",
       "      <td>NaN</td>\n",
       "      <td>NaN</td>\n",
       "      <td>23</td>\n",
       "      <td>From same direction - all others</td>\n",
       "      <td>0</td>\n",
       "      <td>0</td>\n",
       "      <td>N</td>\n",
       "    </tr>\n",
       "    <tr>\n",
       "      <th>4</th>\n",
       "      <td>2</td>\n",
       "      <td>-122.306426</td>\n",
       "      <td>47.545739</td>\n",
       "      <td>5</td>\n",
       "      <td>17700</td>\n",
       "      <td>17700</td>\n",
       "      <td>1807429</td>\n",
       "      <td>Matched</td>\n",
       "      <td>Intersection</td>\n",
       "      <td>34387.0</td>\n",
       "      <td>...</td>\n",
       "      <td>Wet</td>\n",
       "      <td>Daylight</td>\n",
       "      <td>NaN</td>\n",
       "      <td>4028032.0</td>\n",
       "      <td>NaN</td>\n",
       "      <td>10</td>\n",
       "      <td>Entering at angle</td>\n",
       "      <td>0</td>\n",
       "      <td>0</td>\n",
       "      <td>N</td>\n",
       "    </tr>\n",
       "  </tbody>\n",
       "</table>\n",
       "<p>5 rows × 38 columns</p>\n",
       "</div>"
      ],
      "text/plain": [
       "   SEVERITYCODE           X          Y  OBJECTID  INCKEY  COLDETKEY REPORTNO  \\\n",
       "0             2 -122.323148  47.703140         1    1307       1307  3502005   \n",
       "1             1 -122.347294  47.647172         2   52200      52200  2607959   \n",
       "2             1 -122.334540  47.607871         3   26700      26700  1482393   \n",
       "3             1 -122.334803  47.604803         4    1144       1144  3503937   \n",
       "4             2 -122.306426  47.545739         5   17700      17700  1807429   \n",
       "\n",
       "    STATUS      ADDRTYPE   INTKEY  ... ROADCOND                LIGHTCOND  \\\n",
       "0  Matched  Intersection  37475.0  ...      Wet                 Daylight   \n",
       "1  Matched         Block      NaN  ...      Wet  Dark - Street Lights On   \n",
       "2  Matched         Block      NaN  ...      Dry                 Daylight   \n",
       "3  Matched         Block      NaN  ...      Dry                 Daylight   \n",
       "4  Matched  Intersection  34387.0  ...      Wet                 Daylight   \n",
       "\n",
       "  PEDROWNOTGRNT  SDOTCOLNUM SPEEDING ST_COLCODE  \\\n",
       "0           NaN         NaN      NaN         10   \n",
       "1           NaN   6354039.0      NaN         11   \n",
       "2           NaN   4323031.0      NaN         32   \n",
       "3           NaN         NaN      NaN         23   \n",
       "4           NaN   4028032.0      NaN         10   \n",
       "\n",
       "                                          ST_COLDESC  SEGLANEKEY  \\\n",
       "0                                  Entering at angle           0   \n",
       "1  From same direction - both going straight - bo...           0   \n",
       "2                             One parked--one moving           0   \n",
       "3                   From same direction - all others           0   \n",
       "4                                  Entering at angle           0   \n",
       "\n",
       "   CROSSWALKKEY  HITPARKEDCAR  \n",
       "0             0             N  \n",
       "1             0             N  \n",
       "2             0             N  \n",
       "3             0             N  \n",
       "4             0             N  \n",
       "\n",
       "[5 rows x 38 columns]"
      ]
     },
     "execution_count": 3,
     "metadata": {},
     "output_type": "execute_result"
    }
   ],
   "source": [
    "data_df.head()"
   ]
  },
  {
   "cell_type": "code",
   "execution_count": 4,
   "metadata": {},
   "outputs": [
    {
     "data": {
      "text/html": [
       "<div>\n",
       "<style scoped>\n",
       "    .dataframe tbody tr th:only-of-type {\n",
       "        vertical-align: middle;\n",
       "    }\n",
       "\n",
       "    .dataframe tbody tr th {\n",
       "        vertical-align: top;\n",
       "    }\n",
       "\n",
       "    .dataframe thead th {\n",
       "        text-align: right;\n",
       "    }\n",
       "</style>\n",
       "<table border=\"1\" class=\"dataframe\">\n",
       "  <thead>\n",
       "    <tr style=\"text-align: right;\">\n",
       "      <th></th>\n",
       "      <th>SEVERITYCODE</th>\n",
       "      <th>X</th>\n",
       "      <th>Y</th>\n",
       "      <th>OBJECTID</th>\n",
       "      <th>INCKEY</th>\n",
       "      <th>COLDETKEY</th>\n",
       "      <th>REPORTNO</th>\n",
       "      <th>STATUS</th>\n",
       "      <th>ADDRTYPE</th>\n",
       "      <th>INTKEY</th>\n",
       "      <th>...</th>\n",
       "      <th>ROADCOND</th>\n",
       "      <th>LIGHTCOND</th>\n",
       "      <th>PEDROWNOTGRNT</th>\n",
       "      <th>SDOTCOLNUM</th>\n",
       "      <th>SPEEDING</th>\n",
       "      <th>ST_COLCODE</th>\n",
       "      <th>ST_COLDESC</th>\n",
       "      <th>SEGLANEKEY</th>\n",
       "      <th>CROSSWALKKEY</th>\n",
       "      <th>HITPARKEDCAR</th>\n",
       "    </tr>\n",
       "  </thead>\n",
       "  <tbody>\n",
       "    <tr>\n",
       "      <th>194668</th>\n",
       "      <td>2</td>\n",
       "      <td>-122.290826</td>\n",
       "      <td>47.565408</td>\n",
       "      <td>219543</td>\n",
       "      <td>309534</td>\n",
       "      <td>310814</td>\n",
       "      <td>E871089</td>\n",
       "      <td>Matched</td>\n",
       "      <td>Block</td>\n",
       "      <td>NaN</td>\n",
       "      <td>...</td>\n",
       "      <td>Dry</td>\n",
       "      <td>Daylight</td>\n",
       "      <td>NaN</td>\n",
       "      <td>NaN</td>\n",
       "      <td>NaN</td>\n",
       "      <td>24</td>\n",
       "      <td>From opposite direction - both moving - head-on</td>\n",
       "      <td>0</td>\n",
       "      <td>0</td>\n",
       "      <td>N</td>\n",
       "    </tr>\n",
       "    <tr>\n",
       "      <th>194669</th>\n",
       "      <td>1</td>\n",
       "      <td>-122.344526</td>\n",
       "      <td>47.690924</td>\n",
       "      <td>219544</td>\n",
       "      <td>309085</td>\n",
       "      <td>310365</td>\n",
       "      <td>E876731</td>\n",
       "      <td>Matched</td>\n",
       "      <td>Block</td>\n",
       "      <td>NaN</td>\n",
       "      <td>...</td>\n",
       "      <td>Wet</td>\n",
       "      <td>Daylight</td>\n",
       "      <td>NaN</td>\n",
       "      <td>NaN</td>\n",
       "      <td>NaN</td>\n",
       "      <td>13</td>\n",
       "      <td>From same direction - both going straight - bo...</td>\n",
       "      <td>0</td>\n",
       "      <td>0</td>\n",
       "      <td>N</td>\n",
       "    </tr>\n",
       "    <tr>\n",
       "      <th>194670</th>\n",
       "      <td>2</td>\n",
       "      <td>-122.306689</td>\n",
       "      <td>47.683047</td>\n",
       "      <td>219545</td>\n",
       "      <td>311280</td>\n",
       "      <td>312640</td>\n",
       "      <td>3809984</td>\n",
       "      <td>Matched</td>\n",
       "      <td>Intersection</td>\n",
       "      <td>24760.0</td>\n",
       "      <td>...</td>\n",
       "      <td>Dry</td>\n",
       "      <td>Daylight</td>\n",
       "      <td>NaN</td>\n",
       "      <td>NaN</td>\n",
       "      <td>NaN</td>\n",
       "      <td>28</td>\n",
       "      <td>From opposite direction - one left turn - one ...</td>\n",
       "      <td>0</td>\n",
       "      <td>0</td>\n",
       "      <td>N</td>\n",
       "    </tr>\n",
       "    <tr>\n",
       "      <th>194671</th>\n",
       "      <td>2</td>\n",
       "      <td>-122.355317</td>\n",
       "      <td>47.678734</td>\n",
       "      <td>219546</td>\n",
       "      <td>309514</td>\n",
       "      <td>310794</td>\n",
       "      <td>3810083</td>\n",
       "      <td>Matched</td>\n",
       "      <td>Intersection</td>\n",
       "      <td>24349.0</td>\n",
       "      <td>...</td>\n",
       "      <td>Dry</td>\n",
       "      <td>Dusk</td>\n",
       "      <td>NaN</td>\n",
       "      <td>NaN</td>\n",
       "      <td>NaN</td>\n",
       "      <td>5</td>\n",
       "      <td>Vehicle Strikes Pedalcyclist</td>\n",
       "      <td>4308</td>\n",
       "      <td>0</td>\n",
       "      <td>N</td>\n",
       "    </tr>\n",
       "    <tr>\n",
       "      <th>194672</th>\n",
       "      <td>1</td>\n",
       "      <td>-122.289360</td>\n",
       "      <td>47.611017</td>\n",
       "      <td>219547</td>\n",
       "      <td>308220</td>\n",
       "      <td>309500</td>\n",
       "      <td>E868008</td>\n",
       "      <td>Matched</td>\n",
       "      <td>Block</td>\n",
       "      <td>NaN</td>\n",
       "      <td>...</td>\n",
       "      <td>Wet</td>\n",
       "      <td>Daylight</td>\n",
       "      <td>NaN</td>\n",
       "      <td>NaN</td>\n",
       "      <td>NaN</td>\n",
       "      <td>14</td>\n",
       "      <td>From same direction - both going straight - on...</td>\n",
       "      <td>0</td>\n",
       "      <td>0</td>\n",
       "      <td>N</td>\n",
       "    </tr>\n",
       "  </tbody>\n",
       "</table>\n",
       "<p>5 rows × 38 columns</p>\n",
       "</div>"
      ],
      "text/plain": [
       "        SEVERITYCODE           X          Y  OBJECTID  INCKEY  COLDETKEY  \\\n",
       "194668             2 -122.290826  47.565408    219543  309534     310814   \n",
       "194669             1 -122.344526  47.690924    219544  309085     310365   \n",
       "194670             2 -122.306689  47.683047    219545  311280     312640   \n",
       "194671             2 -122.355317  47.678734    219546  309514     310794   \n",
       "194672             1 -122.289360  47.611017    219547  308220     309500   \n",
       "\n",
       "       REPORTNO   STATUS      ADDRTYPE   INTKEY  ... ROADCOND LIGHTCOND  \\\n",
       "194668  E871089  Matched         Block      NaN  ...      Dry  Daylight   \n",
       "194669  E876731  Matched         Block      NaN  ...      Wet  Daylight   \n",
       "194670  3809984  Matched  Intersection  24760.0  ...      Dry  Daylight   \n",
       "194671  3810083  Matched  Intersection  24349.0  ...      Dry      Dusk   \n",
       "194672  E868008  Matched         Block      NaN  ...      Wet  Daylight   \n",
       "\n",
       "       PEDROWNOTGRNT  SDOTCOLNUM SPEEDING ST_COLCODE  \\\n",
       "194668           NaN         NaN      NaN         24   \n",
       "194669           NaN         NaN      NaN         13   \n",
       "194670           NaN         NaN      NaN         28   \n",
       "194671           NaN         NaN      NaN          5   \n",
       "194672           NaN         NaN      NaN         14   \n",
       "\n",
       "                                               ST_COLDESC  SEGLANEKEY  \\\n",
       "194668    From opposite direction - both moving - head-on           0   \n",
       "194669  From same direction - both going straight - bo...           0   \n",
       "194670  From opposite direction - one left turn - one ...           0   \n",
       "194671                       Vehicle Strikes Pedalcyclist        4308   \n",
       "194672  From same direction - both going straight - on...           0   \n",
       "\n",
       "        CROSSWALKKEY  HITPARKEDCAR  \n",
       "194668             0             N  \n",
       "194669             0             N  \n",
       "194670             0             N  \n",
       "194671             0             N  \n",
       "194672             0             N  \n",
       "\n",
       "[5 rows x 38 columns]"
      ]
     },
     "execution_count": 4,
     "metadata": {},
     "output_type": "execute_result"
    }
   ],
   "source": [
    "data_df.tail()"
   ]
  },
  {
   "cell_type": "code",
   "execution_count": 5,
   "metadata": {},
   "outputs": [
    {
     "data": {
      "text/plain": [
       "(194673, 38)"
      ]
     },
     "execution_count": 5,
     "metadata": {},
     "output_type": "execute_result"
    }
   ],
   "source": [
    "data_df.shape"
   ]
  },
  {
   "cell_type": "code",
   "execution_count": 6,
   "metadata": {},
   "outputs": [
    {
     "data": {
      "text/plain": [
       "Index(['SEVERITYCODE', 'X', 'Y', 'OBJECTID', 'INCKEY', 'COLDETKEY', 'REPORTNO',\n",
       "       'STATUS', 'ADDRTYPE', 'INTKEY', 'LOCATION', 'EXCEPTRSNCODE',\n",
       "       'EXCEPTRSNDESC', 'SEVERITYCODE.1', 'SEVERITYDESC', 'COLLISIONTYPE',\n",
       "       'PERSONCOUNT', 'PEDCOUNT', 'PEDCYLCOUNT', 'VEHCOUNT', 'INCDATE',\n",
       "       'INCDTTM', 'JUNCTIONTYPE', 'SDOT_COLCODE', 'SDOT_COLDESC',\n",
       "       'INATTENTIONIND', 'UNDERINFL', 'WEATHER', 'ROADCOND', 'LIGHTCOND',\n",
       "       'PEDROWNOTGRNT', 'SDOTCOLNUM', 'SPEEDING', 'ST_COLCODE', 'ST_COLDESC',\n",
       "       'SEGLANEKEY', 'CROSSWALKKEY', 'HITPARKEDCAR'],\n",
       "      dtype='object')"
      ]
     },
     "execution_count": 6,
     "metadata": {},
     "output_type": "execute_result"
    }
   ],
   "source": [
    "data_df.columns"
   ]
  },
  {
   "cell_type": "code",
   "execution_count": 7,
   "metadata": {},
   "outputs": [
    {
     "name": "stdout",
     "output_type": "stream",
     "text": [
      "<class 'pandas.core.frame.DataFrame'>\n",
      "RangeIndex: 194673 entries, 0 to 194672\n",
      "Data columns (total 38 columns):\n",
      " #   Column          Non-Null Count   Dtype  \n",
      "---  ------          --------------   -----  \n",
      " 0   SEVERITYCODE    194673 non-null  int64  \n",
      " 1   X               189339 non-null  float64\n",
      " 2   Y               189339 non-null  float64\n",
      " 3   OBJECTID        194673 non-null  int64  \n",
      " 4   INCKEY          194673 non-null  int64  \n",
      " 5   COLDETKEY       194673 non-null  int64  \n",
      " 6   REPORTNO        194673 non-null  object \n",
      " 7   STATUS          194673 non-null  object \n",
      " 8   ADDRTYPE        192747 non-null  object \n",
      " 9   INTKEY          65070 non-null   float64\n",
      " 10  LOCATION        191996 non-null  object \n",
      " 11  EXCEPTRSNCODE   84811 non-null   object \n",
      " 12  EXCEPTRSNDESC   5638 non-null    object \n",
      " 13  SEVERITYCODE.1  194673 non-null  int64  \n",
      " 14  SEVERITYDESC    194673 non-null  object \n",
      " 15  COLLISIONTYPE   189769 non-null  object \n",
      " 16  PERSONCOUNT     194673 non-null  int64  \n",
      " 17  PEDCOUNT        194673 non-null  int64  \n",
      " 18  PEDCYLCOUNT     194673 non-null  int64  \n",
      " 19  VEHCOUNT        194673 non-null  int64  \n",
      " 20  INCDATE         194673 non-null  object \n",
      " 21  INCDTTM         194673 non-null  object \n",
      " 22  JUNCTIONTYPE    188344 non-null  object \n",
      " 23  SDOT_COLCODE    194673 non-null  int64  \n",
      " 24  SDOT_COLDESC    194673 non-null  object \n",
      " 25  INATTENTIONIND  29805 non-null   object \n",
      " 26  UNDERINFL       189789 non-null  object \n",
      " 27  WEATHER         189592 non-null  object \n",
      " 28  ROADCOND        189661 non-null  object \n",
      " 29  LIGHTCOND       189503 non-null  object \n",
      " 30  PEDROWNOTGRNT   4667 non-null    object \n",
      " 31  SDOTCOLNUM      114936 non-null  float64\n",
      " 32  SPEEDING        9333 non-null    object \n",
      " 33  ST_COLCODE      194655 non-null  object \n",
      " 34  ST_COLDESC      189769 non-null  object \n",
      " 35  SEGLANEKEY      194673 non-null  int64  \n",
      " 36  CROSSWALKKEY    194673 non-null  int64  \n",
      " 37  HITPARKEDCAR    194673 non-null  object \n",
      "dtypes: float64(4), int64(12), object(22)\n",
      "memory usage: 56.4+ MB\n"
     ]
    }
   ],
   "source": [
    "data_df.info()"
   ]
  },
  {
   "cell_type": "code",
   "execution_count": 8,
   "metadata": {},
   "outputs": [
    {
     "data": {
      "text/plain": [
       "SEVERITYCODE                                                      2\n",
       "X                                                          -122.323\n",
       "Y                                                           47.7031\n",
       "OBJECTID                                                          1\n",
       "INCKEY                                                         1307\n",
       "COLDETKEY                                                      1307\n",
       "REPORTNO                                                    3502005\n",
       "STATUS                                                      Matched\n",
       "ADDRTYPE                                               Intersection\n",
       "INTKEY                                                        37475\n",
       "LOCATION                                 5TH AVE NE AND NE 103RD ST\n",
       "EXCEPTRSNCODE                                                      \n",
       "EXCEPTRSNDESC                                                   NaN\n",
       "SEVERITYCODE.1                                                    2\n",
       "SEVERITYDESC                                       Injury Collision\n",
       "COLLISIONTYPE                                                Angles\n",
       "PERSONCOUNT                                                       2\n",
       "PEDCOUNT                                                          0\n",
       "PEDCYLCOUNT                                                       0\n",
       "VEHCOUNT                                                          2\n",
       "INCDATE                                      2013/03/27 00:00:00+00\n",
       "INCDTTM                                        3/27/2013 2:54:00 PM\n",
       "JUNCTIONTYPE                 At Intersection (intersection related)\n",
       "SDOT_COLCODE                                                     11\n",
       "SDOT_COLDESC      MOTOR VEHICLE STRUCK MOTOR VEHICLE, FRONT END ...\n",
       "INATTENTIONIND                                                  NaN\n",
       "UNDERINFL                                                         N\n",
       "WEATHER                                                    Overcast\n",
       "ROADCOND                                                        Wet\n",
       "LIGHTCOND                                                  Daylight\n",
       "PEDROWNOTGRNT                                                   NaN\n",
       "SDOTCOLNUM                                                      NaN\n",
       "SPEEDING                                                        NaN\n",
       "ST_COLCODE                                                       10\n",
       "ST_COLDESC                                        Entering at angle\n",
       "SEGLANEKEY                                                        0\n",
       "CROSSWALKKEY                                                      0\n",
       "HITPARKEDCAR                                                      N\n",
       "Name: 0, dtype: object"
      ]
     },
     "execution_count": 8,
     "metadata": {},
     "output_type": "execute_result"
    }
   ],
   "source": [
    "data_df.loc[0,:]"
   ]
  },
  {
   "cell_type": "code",
   "execution_count": 9,
   "metadata": {},
   "outputs": [
    {
     "data": {
      "text/plain": [
       "SEVERITYCODE           0\n",
       "X                   5334\n",
       "Y                   5334\n",
       "OBJECTID               0\n",
       "INCKEY                 0\n",
       "COLDETKEY              0\n",
       "REPORTNO               0\n",
       "STATUS                 0\n",
       "ADDRTYPE            1926\n",
       "INTKEY            129603\n",
       "LOCATION            2677\n",
       "EXCEPTRSNCODE     109862\n",
       "EXCEPTRSNDESC     189035\n",
       "SEVERITYCODE.1         0\n",
       "SEVERITYDESC           0\n",
       "COLLISIONTYPE       4904\n",
       "PERSONCOUNT            0\n",
       "PEDCOUNT               0\n",
       "PEDCYLCOUNT            0\n",
       "VEHCOUNT               0\n",
       "INCDATE                0\n",
       "INCDTTM                0\n",
       "JUNCTIONTYPE        6329\n",
       "SDOT_COLCODE           0\n",
       "SDOT_COLDESC           0\n",
       "INATTENTIONIND    164868\n",
       "UNDERINFL           4884\n",
       "WEATHER             5081\n",
       "ROADCOND            5012\n",
       "LIGHTCOND           5170\n",
       "PEDROWNOTGRNT     190006\n",
       "SDOTCOLNUM         79737\n",
       "SPEEDING          185340\n",
       "ST_COLCODE            18\n",
       "ST_COLDESC          4904\n",
       "SEGLANEKEY             0\n",
       "CROSSWALKKEY           0\n",
       "HITPARKEDCAR           0\n",
       "dtype: int64"
      ]
     },
     "execution_count": 9,
     "metadata": {},
     "output_type": "execute_result"
    }
   ],
   "source": [
    "data_df.isnull().sum(axis=0)"
   ]
  },
  {
   "cell_type": "code",
   "execution_count": null,
   "metadata": {},
   "outputs": [],
   "source": []
  },
  {
   "cell_type": "markdown",
   "metadata": {},
   "source": [
    "# Data Cleaning\n",
    "\n",
    "The data obtained from the Seattle Open Data website are not, in their original form, usable for the purposes of model building. There are a number of issues which must be addressed:\n",
    "\n",
    "1. **Columns containing useless/redundant data. These columns can be removed from the dataframe and include**:\n",
    "    * _OBJECTID_ - this is just an database key, but Pandas creates its own key on import.\n",
    "    * _COLDETKEY_ - this is just a duplicate of INCKEY, and probably arises due to a cross-matching of tables on the Seattle Open Data website. We will keep INCKEY as a unique identifier for each accident, but do not need to keep the duplicate column\n",
    "    * _REPORTNO_ - this is just another identifier for the accident, this time tying the record to the individual piece of paperwork that was filed to report the accident. This is not useful for building our model.\n",
    "    * _STATUS_ - the meaning of this column is unclear (and is not explained in the Attribute Information metadata). The values are either \"Matched\" or \"Unmatched\".\n",
    "    * _EXCEPTRSNCODE, EXCEPTRSNDESC_ - these columns are listed in the Attribute Information metadata, but their meanings are not explained. EXCEPTRSNCODE is blank/NaN in ~99% of the data, with 2,480 accidents having a non-blank entry, all of which are the same (\"NEI\"). According to EXCEPTRSNDESC this means \"Not Enough Information\".\n",
    "    * _INCDATE_ - this column is just a duplicate of the more easily parsable INCDTTM\n",
    "    * _SDOTCOLNUM_ - this is another unique identifier for each accident, however as we are planning to keep INCKEY, keeping this second unique identifier is redundant.\n",
    "    \n",
    "2. **Rows which are missing information about some of the features which we expect will be key to building the model:** as we can see from df.head, a number of accidents (accounting for ~15% of the dataset) have \"Unknown\" values for attributes like _WEATHER_ , _ROADCOND_ and _LIGHTCOND_ , or have these fields blank/NaN, which in practice means the same thing. As these are expected to be among the features which influence the likelihood and severity of accidents, we have to consider discarding these rows before training the model.\n",
    "\n",
    "3. **Presence of features with categorical values:** In order to construct a model using Machine Learning techniques, we must take columns which contain categorical data and re-cast them in numeric form. Different techniques will be used to accomplish this, depending on the nature of the data in these columns.\n",
    "    * Some columns, such as _UNDERINFL_ and _HITPARKEDCAR_ contain a mixture of alphanumeric (Y/N or 1/0), boolean (True/False) and missing (NaN) data. To prepare the data for modelling it will be important to homogenise these data by treating 1, Y and True as equivalent (and setting these to 1) and treating 0, N and False as equivalent (setting these to 0). Furthermore, we can infer that missing values (represented with NaN) are equivalent to 0/False.\n",
    "    * Other columns contain labelled data (e.g. _WEATHERCOND_ , which takes one of a handful of values such as _RAIN_ , _CLEAR_ , _SNOWING_ , etc). These can be prepared for modelling by using One-Hot Encoding, wherein a new column is created for each of the discrete values corresponding to the original variable/column, which is filled with 1s or 0s depending on the value in that column.\n",
    "    \n",
    "4. **Incorporating timestamp information:** The _INCDTTM_ column contains the incident date/time in alphanumeric form. This can be parsed to an actual timestamp using Pandas, and then separated in to separate columns for Hour, Day (of month) Day (of week), Month and Year to study temporal trends\n",
    "    \n",
    "5. **Other issues:** after performing the above data engineering issues, we will create a copy of the data frame (minus any columns which will not be used for model-building) and perform a final check for any remaining NaNs/missing data. We will decide how to handle these later.\n",
    "    \n",
    "    \n",
    "Okay, let's get started!\n",
    "\n"
   ]
  },
  {
   "cell_type": "markdown",
   "metadata": {},
   "source": [
    "### Data Cleaning 1: Removing unnecessary columns"
   ]
  },
  {
   "cell_type": "code",
   "execution_count": 10,
   "metadata": {},
   "outputs": [],
   "source": [
    "#Begin by checking whether these columns exists in the dataset and if so, delete them:\n",
    "if 'OBJECTID' in data_df:\n",
    "    del data_df[\"OBJECTID\"]\n",
    "if 'COLDETKEY' in data_df:\n",
    "    del data_df[\"COLDETKEY\"]\n",
    "if 'REPORTNO' in data_df:\n",
    "    del data_df[\"REPORTNO\"]\n",
    "if 'STATUS' in data_df:\n",
    "    del data_df[\"STATUS\"]\n",
    "if 'EXCEPTRSNCODE' in data_df:\n",
    "    del data_df[\"EXCEPTRSNCODE\"]\n",
    "if 'EXCEPTRSNDESC' in data_df:\n",
    "    del data_df[\"EXCEPTRSNDESC\"]\n",
    "if 'INCDATE' in data_df:\n",
    "    del data_df[\"INCDATE\"]\n",
    "if 'SDOTCOLNUM' in data_df:\n",
    "    del data_df[\"SDOTCOLNUM\"]\n",
    "if 'STCOLCODE' in data_df:\n",
    "    del data_df[\"STCOLCODE\"]"
   ]
  },
  {
   "cell_type": "code",
   "execution_count": 11,
   "metadata": {},
   "outputs": [
    {
     "data": {
      "text/html": [
       "<div>\n",
       "<style scoped>\n",
       "    .dataframe tbody tr th:only-of-type {\n",
       "        vertical-align: middle;\n",
       "    }\n",
       "\n",
       "    .dataframe tbody tr th {\n",
       "        vertical-align: top;\n",
       "    }\n",
       "\n",
       "    .dataframe thead th {\n",
       "        text-align: right;\n",
       "    }\n",
       "</style>\n",
       "<table border=\"1\" class=\"dataframe\">\n",
       "  <thead>\n",
       "    <tr style=\"text-align: right;\">\n",
       "      <th></th>\n",
       "      <th>SEVERITYCODE</th>\n",
       "      <th>X</th>\n",
       "      <th>Y</th>\n",
       "      <th>INCKEY</th>\n",
       "      <th>ADDRTYPE</th>\n",
       "      <th>INTKEY</th>\n",
       "      <th>LOCATION</th>\n",
       "      <th>SEVERITYCODE.1</th>\n",
       "      <th>SEVERITYDESC</th>\n",
       "      <th>COLLISIONTYPE</th>\n",
       "      <th>...</th>\n",
       "      <th>WEATHER</th>\n",
       "      <th>ROADCOND</th>\n",
       "      <th>LIGHTCOND</th>\n",
       "      <th>PEDROWNOTGRNT</th>\n",
       "      <th>SPEEDING</th>\n",
       "      <th>ST_COLCODE</th>\n",
       "      <th>ST_COLDESC</th>\n",
       "      <th>SEGLANEKEY</th>\n",
       "      <th>CROSSWALKKEY</th>\n",
       "      <th>HITPARKEDCAR</th>\n",
       "    </tr>\n",
       "  </thead>\n",
       "  <tbody>\n",
       "    <tr>\n",
       "      <th>0</th>\n",
       "      <td>2</td>\n",
       "      <td>-122.323148</td>\n",
       "      <td>47.703140</td>\n",
       "      <td>1307</td>\n",
       "      <td>Intersection</td>\n",
       "      <td>37475.0</td>\n",
       "      <td>5TH AVE NE AND NE 103RD ST</td>\n",
       "      <td>2</td>\n",
       "      <td>Injury Collision</td>\n",
       "      <td>Angles</td>\n",
       "      <td>...</td>\n",
       "      <td>Overcast</td>\n",
       "      <td>Wet</td>\n",
       "      <td>Daylight</td>\n",
       "      <td>NaN</td>\n",
       "      <td>NaN</td>\n",
       "      <td>10</td>\n",
       "      <td>Entering at angle</td>\n",
       "      <td>0</td>\n",
       "      <td>0</td>\n",
       "      <td>N</td>\n",
       "    </tr>\n",
       "    <tr>\n",
       "      <th>1</th>\n",
       "      <td>1</td>\n",
       "      <td>-122.347294</td>\n",
       "      <td>47.647172</td>\n",
       "      <td>52200</td>\n",
       "      <td>Block</td>\n",
       "      <td>NaN</td>\n",
       "      <td>AURORA BR BETWEEN RAYE ST AND BRIDGE WAY N</td>\n",
       "      <td>1</td>\n",
       "      <td>Property Damage Only Collision</td>\n",
       "      <td>Sideswipe</td>\n",
       "      <td>...</td>\n",
       "      <td>Raining</td>\n",
       "      <td>Wet</td>\n",
       "      <td>Dark - Street Lights On</td>\n",
       "      <td>NaN</td>\n",
       "      <td>NaN</td>\n",
       "      <td>11</td>\n",
       "      <td>From same direction - both going straight - bo...</td>\n",
       "      <td>0</td>\n",
       "      <td>0</td>\n",
       "      <td>N</td>\n",
       "    </tr>\n",
       "    <tr>\n",
       "      <th>2</th>\n",
       "      <td>1</td>\n",
       "      <td>-122.334540</td>\n",
       "      <td>47.607871</td>\n",
       "      <td>26700</td>\n",
       "      <td>Block</td>\n",
       "      <td>NaN</td>\n",
       "      <td>4TH AVE BETWEEN SENECA ST AND UNIVERSITY ST</td>\n",
       "      <td>1</td>\n",
       "      <td>Property Damage Only Collision</td>\n",
       "      <td>Parked Car</td>\n",
       "      <td>...</td>\n",
       "      <td>Overcast</td>\n",
       "      <td>Dry</td>\n",
       "      <td>Daylight</td>\n",
       "      <td>NaN</td>\n",
       "      <td>NaN</td>\n",
       "      <td>32</td>\n",
       "      <td>One parked--one moving</td>\n",
       "      <td>0</td>\n",
       "      <td>0</td>\n",
       "      <td>N</td>\n",
       "    </tr>\n",
       "    <tr>\n",
       "      <th>3</th>\n",
       "      <td>1</td>\n",
       "      <td>-122.334803</td>\n",
       "      <td>47.604803</td>\n",
       "      <td>1144</td>\n",
       "      <td>Block</td>\n",
       "      <td>NaN</td>\n",
       "      <td>2ND AVE BETWEEN MARION ST AND MADISON ST</td>\n",
       "      <td>1</td>\n",
       "      <td>Property Damage Only Collision</td>\n",
       "      <td>Other</td>\n",
       "      <td>...</td>\n",
       "      <td>Clear</td>\n",
       "      <td>Dry</td>\n",
       "      <td>Daylight</td>\n",
       "      <td>NaN</td>\n",
       "      <td>NaN</td>\n",
       "      <td>23</td>\n",
       "      <td>From same direction - all others</td>\n",
       "      <td>0</td>\n",
       "      <td>0</td>\n",
       "      <td>N</td>\n",
       "    </tr>\n",
       "    <tr>\n",
       "      <th>4</th>\n",
       "      <td>2</td>\n",
       "      <td>-122.306426</td>\n",
       "      <td>47.545739</td>\n",
       "      <td>17700</td>\n",
       "      <td>Intersection</td>\n",
       "      <td>34387.0</td>\n",
       "      <td>SWIFT AVE S AND SWIFT AV OFF RP</td>\n",
       "      <td>2</td>\n",
       "      <td>Injury Collision</td>\n",
       "      <td>Angles</td>\n",
       "      <td>...</td>\n",
       "      <td>Raining</td>\n",
       "      <td>Wet</td>\n",
       "      <td>Daylight</td>\n",
       "      <td>NaN</td>\n",
       "      <td>NaN</td>\n",
       "      <td>10</td>\n",
       "      <td>Entering at angle</td>\n",
       "      <td>0</td>\n",
       "      <td>0</td>\n",
       "      <td>N</td>\n",
       "    </tr>\n",
       "  </tbody>\n",
       "</table>\n",
       "<p>5 rows × 30 columns</p>\n",
       "</div>"
      ],
      "text/plain": [
       "   SEVERITYCODE           X          Y  INCKEY      ADDRTYPE   INTKEY  \\\n",
       "0             2 -122.323148  47.703140    1307  Intersection  37475.0   \n",
       "1             1 -122.347294  47.647172   52200         Block      NaN   \n",
       "2             1 -122.334540  47.607871   26700         Block      NaN   \n",
       "3             1 -122.334803  47.604803    1144         Block      NaN   \n",
       "4             2 -122.306426  47.545739   17700  Intersection  34387.0   \n",
       "\n",
       "                                      LOCATION  SEVERITYCODE.1  \\\n",
       "0                   5TH AVE NE AND NE 103RD ST               2   \n",
       "1   AURORA BR BETWEEN RAYE ST AND BRIDGE WAY N               1   \n",
       "2  4TH AVE BETWEEN SENECA ST AND UNIVERSITY ST               1   \n",
       "3     2ND AVE BETWEEN MARION ST AND MADISON ST               1   \n",
       "4              SWIFT AVE S AND SWIFT AV OFF RP               2   \n",
       "\n",
       "                     SEVERITYDESC COLLISIONTYPE  ...   WEATHER  ROADCOND  \\\n",
       "0                Injury Collision        Angles  ...  Overcast       Wet   \n",
       "1  Property Damage Only Collision     Sideswipe  ...   Raining       Wet   \n",
       "2  Property Damage Only Collision    Parked Car  ...  Overcast       Dry   \n",
       "3  Property Damage Only Collision         Other  ...     Clear       Dry   \n",
       "4                Injury Collision        Angles  ...   Raining       Wet   \n",
       "\n",
       "                 LIGHTCOND  PEDROWNOTGRNT SPEEDING ST_COLCODE  \\\n",
       "0                 Daylight            NaN      NaN         10   \n",
       "1  Dark - Street Lights On            NaN      NaN         11   \n",
       "2                 Daylight            NaN      NaN         32   \n",
       "3                 Daylight            NaN      NaN         23   \n",
       "4                 Daylight            NaN      NaN         10   \n",
       "\n",
       "                                          ST_COLDESC SEGLANEKEY CROSSWALKKEY  \\\n",
       "0                                  Entering at angle          0            0   \n",
       "1  From same direction - both going straight - bo...          0            0   \n",
       "2                             One parked--one moving          0            0   \n",
       "3                   From same direction - all others          0            0   \n",
       "4                                  Entering at angle          0            0   \n",
       "\n",
       "  HITPARKEDCAR  \n",
       "0            N  \n",
       "1            N  \n",
       "2            N  \n",
       "3            N  \n",
       "4            N  \n",
       "\n",
       "[5 rows x 30 columns]"
      ]
     },
     "execution_count": 11,
     "metadata": {},
     "output_type": "execute_result"
    }
   ],
   "source": [
    "data_df.head()"
   ]
  },
  {
   "cell_type": "markdown",
   "metadata": {},
   "source": [
    "### Data Cleaning 3: Removing rows where key features are missing"
   ]
  },
  {
   "cell_type": "code",
   "execution_count": 12,
   "metadata": {},
   "outputs": [],
   "source": [
    "#Find missing WEATHERCOND\n",
    "todrop1 = data_df[\"WEATHER\"] == 'Unknown'\n",
    "noweatherinfo = todrop1.values.sum()\n",
    "\n",
    "#Find missing ROADCOND\n",
    "todrop2 = data_df[\"ROADCOND\"] == \"Unknown\"\n",
    "noroadcondinfo = todrop2.values.sum()\n",
    "\n",
    "#Find missing LIGHTCOND\n",
    "todrop3 = data_df[\"LIGHTCOND\"] == \"Unknown\"\n",
    "nolightinfo = todrop3.values.sum()"
   ]
  },
  {
   "cell_type": "code",
   "execution_count": 13,
   "metadata": {},
   "outputs": [
    {
     "name": "stderr",
     "output_type": "stream",
     "text": [
      "C:\\Users\\JAY\\Anaconda3\\lib\\site-packages\\ipykernel_launcher.py:7: SettingWithCopyWarning: \n",
      "A value is trying to be set on a copy of a slice from a DataFrame\n",
      "\n",
      "See the caveats in the documentation: https://pandas.pydata.org/pandas-docs/stable/user_guide/indexing.html#returning-a-view-versus-a-copy\n",
      "  import sys\n"
     ]
    },
    {
     "name": "stdout",
     "output_type": "stream",
     "text": [
      "There are 15091 accidents with no weather information.\n",
      "There are 15078 accidents with no road condition information.\n",
      "There are 13473 accidents with no information about light conditions.\n",
      "There are 18902 accidents without one or more of the above.\n",
      " Deleting now...\n"
     ]
    }
   ],
   "source": [
    "#Collate these and remove\n",
    "data_df[\"TODROP\"] = 0\n",
    "count_noweather = 0\n",
    "count_noinfo = 0\n",
    "for i in range(0,len(todrop1)):\n",
    "    if todrop1[i] == True or todrop2[i] == True or todrop3[i] == True:\n",
    "        data_df[\"TODROP\"][i] = 1\n",
    "        \n",
    "print(\"There are \"+str(noweatherinfo)+\" accidents with no weather information.\")\n",
    "print(\"There are \"+str(noroadcondinfo)+\" accidents with no road condition information.\")\n",
    "print(\"There are \"+str(nolightinfo)+\" accidents with no information about light conditions.\")\n",
    "print(\"There are \"+str(data_df[\"TODROP\"].values.sum())+\" accidents without one or more of the above.\\n Deleting now...\")"
   ]
  },
  {
   "cell_type": "code",
   "execution_count": 14,
   "metadata": {},
   "outputs": [],
   "source": [
    "#Delete the temporary column \"TODROP\" and re-index the data\n",
    "shape0 = data_df.shape\n",
    "todrop = data_df[\"TODROP\"] == 1\n",
    "data_df.drop(data_df.index[todrop], inplace=True)"
   ]
  },
  {
   "cell_type": "code",
   "execution_count": 15,
   "metadata": {},
   "outputs": [
    {
     "name": "stdout",
     "output_type": "stream",
     "text": [
      "Shape of DF before: 194673 x 31\n",
      "Shape of DF after: 175771 x 31\n"
     ]
    }
   ],
   "source": [
    "#Print info about DF shape before and after\n",
    "print(\"Shape of DF before: \"+str(shape0[0])+\" x \"+str(shape0[1]))\n",
    "print(\"Shape of DF after: \"+str(data_df.shape[0])+\" x \"+str(data_df.shape[1]))"
   ]
  },
  {
   "cell_type": "code",
   "execution_count": 16,
   "metadata": {},
   "outputs": [],
   "source": [
    "#Re-index dataframe to account for missing rows\n",
    "data_df.reset_index(inplace=True)\n",
    "\n",
    "#Delete the temporary \"TODROP\" column from the DataFrame\n",
    "if 'TODROP' in data_df:\n",
    "    del data_df[\"TODROP\"]\n",
    "    \n",
    "    del data_df[\"index\"]"
   ]
  },
  {
   "cell_type": "markdown",
   "metadata": {},
   "source": [
    "## Data Cleaning 4: Dealing with categorical variables"
   ]
  },
  {
   "cell_type": "code",
   "execution_count": 17,
   "metadata": {},
   "outputs": [],
   "source": [
    "#Take columns with mixed boolean data types ([1, \"Y\", True],[0, \"N\", False] etc) and cast them as numerical variables\n",
    "#SPEEDING, INATTENTIONIND, UNDERINFL, PEDROWNOTGRNT, HITPARKEDCAR\n",
    "data_df[\"SPEEDING\"].replace(np.nan, 0, inplace=True)\n",
    "data_df[\"SPEEDING\"].replace(\"Y\", 1, inplace=True)\n",
    "\n",
    "data_df[\"INATTENTIONIND\"].replace(np.nan, 0, inplace=True)\n",
    "data_df[\"INATTENTIONIND\"].replace(\"Y\", 1, inplace=True)\n",
    "\n",
    "data_df[\"UNDERINFL\"].replace(np.nan, 0, inplace=True)\n",
    "data_df[\"UNDERINFL\"].replace('N', 0, inplace=True)\n",
    "data_df[\"UNDERINFL\"].replace('0', 0, inplace=True)\n",
    "data_df[\"UNDERINFL\"].replace('1', 1, inplace=True)\n",
    "data_df[\"UNDERINFL\"].replace(\"Y\", 1, inplace=True)\n",
    "\n",
    "data_df[\"PEDROWNOTGRNT\"].replace(np.nan, 0, inplace=True)\n",
    "data_df[\"PEDROWNOTGRNT\"].replace(\"Y\", 1, inplace=True)\n",
    "\n",
    "data_df[\"HITPARKEDCAR\"].replace(\"N\", 0, inplace=True)\n",
    "data_df[\"HITPARKEDCAR\"].replace(np.nan, 0, inplace=True)\n",
    "data_df[\"HITPARKEDCAR\"].replace(\"Y\", 1, inplace=True)"
   ]
  },
  {
   "cell_type": "code",
   "execution_count": 18,
   "metadata": {},
   "outputs": [
    {
     "data": {
      "text/plain": [
       "Clear                       109086\n",
       "Raining                      32763\n",
       "Overcast                     27008\n",
       "Snowing                        837\n",
       "Fog/Smog/Smoke                 555\n",
       "Other                          266\n",
       "Sleet/Hail/Freezing Rain       111\n",
       "Blowing Sand/Dirt               48\n",
       "Severe Crosswind                25\n",
       "Partly Cloudy                    5\n",
       "Name: WEATHER, dtype: int64"
      ]
     },
     "execution_count": 18,
     "metadata": {},
     "output_type": "execute_result"
    }
   ],
   "source": [
    "data_df[\"WEATHER\"].value_counts()"
   ]
  },
  {
   "cell_type": "code",
   "execution_count": 19,
   "metadata": {},
   "outputs": [
    {
     "data": {
      "text/plain": [
       "Dry               121957\n",
       "Wet                46523\n",
       "Ice                 1099\n",
       "Snow/Slush           850\n",
       "Other                111\n",
       "Standing Water       108\n",
       "Sand/Mud/Dirt         67\n",
       "Oil                   61\n",
       "Name: ROADCOND, dtype: int64"
      ]
     },
     "execution_count": 19,
     "metadata": {},
     "output_type": "execute_result"
    }
   ],
   "source": [
    "data_df[\"ROADCOND\"].value_counts()"
   ]
  },
  {
   "cell_type": "code",
   "execution_count": 20,
   "metadata": {},
   "outputs": [
    {
     "data": {
      "text/plain": [
       "Daylight                    112891\n",
       "Dark - Street Lights On      46910\n",
       "Dusk                          5675\n",
       "Dawn                          2424\n",
       "Dark - No Street Lights       1416\n",
       "Dark - Street Lights Off      1124\n",
       "Other                          201\n",
       "Dark - Unknown Lighting          9\n",
       "Name: LIGHTCOND, dtype: int64"
      ]
     },
     "execution_count": 20,
     "metadata": {},
     "output_type": "execute_result"
    }
   ],
   "source": [
    "data_df[\"LIGHTCOND\"].value_counts()"
   ]
  },
  {
   "cell_type": "code",
   "execution_count": 21,
   "metadata": {},
   "outputs": [
    {
     "data": {
      "text/plain": [
       "Block           111321\n",
       "Intersection     63008\n",
       "Alley              603\n",
       "Name: ADDRTYPE, dtype: int64"
      ]
     },
     "execution_count": 21,
     "metadata": {},
     "output_type": "execute_result"
    }
   ],
   "source": [
    "data_df[\"ADDRTYPE\"].value_counts()"
   ]
  },
  {
   "cell_type": "code",
   "execution_count": 22,
   "metadata": {},
   "outputs": [],
   "source": [
    "#Use One Hot Encoding to deal with categorical data\n",
    "#Get dummies for one-hot encoding\n",
    "weatherdummies = pd.get_dummies(data_df[\"WEATHER\"])\n",
    "lightconddummies = pd.get_dummies(data_df[\"LIGHTCOND\"])\n",
    "roadconddummies = pd.get_dummies(data_df[\"ROADCOND\"])\n",
    "addrtypedummies = pd.get_dummies(data_df[\"ADDRTYPE\"])\n",
    "\n",
    "#There is an \"other\" column in each of the above DFs -- rename these to avoid confusion\n",
    "#when the DataFrames are merged\n",
    "weatherdummies.rename(columns={\"Other\": \"Other weather\"}, inplace=True)\n",
    "lightconddummies.rename(columns={\"Other\": \"Other light\"}, inplace=True)\n",
    "roadconddummies.rename(columns={\"Other\": \"Other roadcond\"}, inplace=True)\n",
    "\n",
    "#Now use one-hot encoding on SDOT_COLCODE\n",
    "colcodedummies = pd.get_dummies(data_df[\"SDOT_COLCODE\"])\n",
    "columns = colcodedummies.columns\n",
    "for col in columns:\n",
    "    colcodedummies = colcodedummies.rename(columns={col: 'SDOT_COLCODE_'+str(col)})\n",
    "\n",
    "#Join columns to existing DataFrame\n",
    "#data_frames = [df, weatherdummies, lightconddummies, roadconddummies, addrtypedummies]\n",
    "data_df = data_df.join(weatherdummies)\n",
    "data_df = data_df.join(lightconddummies)\n",
    "data_df = data_df.join(roadconddummies)\n",
    "data_df = data_df.join(addrtypedummies)\n",
    "data_df = data_df.join(colcodedummies)"
   ]
  },
  {
   "cell_type": "code",
   "execution_count": 23,
   "metadata": {},
   "outputs": [
    {
     "name": "stdout",
     "output_type": "stream",
     "text": [
      "(175771, 39)\n"
     ]
    },
    {
     "data": {
      "text/html": [
       "<div>\n",
       "<style scoped>\n",
       "    .dataframe tbody tr th:only-of-type {\n",
       "        vertical-align: middle;\n",
       "    }\n",
       "\n",
       "    .dataframe tbody tr th {\n",
       "        vertical-align: top;\n",
       "    }\n",
       "\n",
       "    .dataframe thead th {\n",
       "        text-align: right;\n",
       "    }\n",
       "</style>\n",
       "<table border=\"1\" class=\"dataframe\">\n",
       "  <thead>\n",
       "    <tr style=\"text-align: right;\">\n",
       "      <th></th>\n",
       "      <th>SDOT_COLCODE_0</th>\n",
       "      <th>SDOT_COLCODE_11</th>\n",
       "      <th>SDOT_COLCODE_12</th>\n",
       "      <th>SDOT_COLCODE_13</th>\n",
       "      <th>SDOT_COLCODE_14</th>\n",
       "      <th>SDOT_COLCODE_15</th>\n",
       "      <th>SDOT_COLCODE_16</th>\n",
       "      <th>SDOT_COLCODE_18</th>\n",
       "      <th>SDOT_COLCODE_21</th>\n",
       "      <th>SDOT_COLCODE_22</th>\n",
       "      <th>...</th>\n",
       "      <th>SDOT_COLCODE_53</th>\n",
       "      <th>SDOT_COLCODE_54</th>\n",
       "      <th>SDOT_COLCODE_55</th>\n",
       "      <th>SDOT_COLCODE_56</th>\n",
       "      <th>SDOT_COLCODE_58</th>\n",
       "      <th>SDOT_COLCODE_61</th>\n",
       "      <th>SDOT_COLCODE_64</th>\n",
       "      <th>SDOT_COLCODE_66</th>\n",
       "      <th>SDOT_COLCODE_68</th>\n",
       "      <th>SDOT_COLCODE_69</th>\n",
       "    </tr>\n",
       "  </thead>\n",
       "  <tbody>\n",
       "    <tr>\n",
       "      <th>0</th>\n",
       "      <td>0</td>\n",
       "      <td>1</td>\n",
       "      <td>0</td>\n",
       "      <td>0</td>\n",
       "      <td>0</td>\n",
       "      <td>0</td>\n",
       "      <td>0</td>\n",
       "      <td>0</td>\n",
       "      <td>0</td>\n",
       "      <td>0</td>\n",
       "      <td>...</td>\n",
       "      <td>0</td>\n",
       "      <td>0</td>\n",
       "      <td>0</td>\n",
       "      <td>0</td>\n",
       "      <td>0</td>\n",
       "      <td>0</td>\n",
       "      <td>0</td>\n",
       "      <td>0</td>\n",
       "      <td>0</td>\n",
       "      <td>0</td>\n",
       "    </tr>\n",
       "    <tr>\n",
       "      <th>1</th>\n",
       "      <td>0</td>\n",
       "      <td>0</td>\n",
       "      <td>0</td>\n",
       "      <td>0</td>\n",
       "      <td>0</td>\n",
       "      <td>0</td>\n",
       "      <td>1</td>\n",
       "      <td>0</td>\n",
       "      <td>0</td>\n",
       "      <td>0</td>\n",
       "      <td>...</td>\n",
       "      <td>0</td>\n",
       "      <td>0</td>\n",
       "      <td>0</td>\n",
       "      <td>0</td>\n",
       "      <td>0</td>\n",
       "      <td>0</td>\n",
       "      <td>0</td>\n",
       "      <td>0</td>\n",
       "      <td>0</td>\n",
       "      <td>0</td>\n",
       "    </tr>\n",
       "    <tr>\n",
       "      <th>2</th>\n",
       "      <td>0</td>\n",
       "      <td>0</td>\n",
       "      <td>0</td>\n",
       "      <td>0</td>\n",
       "      <td>1</td>\n",
       "      <td>0</td>\n",
       "      <td>0</td>\n",
       "      <td>0</td>\n",
       "      <td>0</td>\n",
       "      <td>0</td>\n",
       "      <td>...</td>\n",
       "      <td>0</td>\n",
       "      <td>0</td>\n",
       "      <td>0</td>\n",
       "      <td>0</td>\n",
       "      <td>0</td>\n",
       "      <td>0</td>\n",
       "      <td>0</td>\n",
       "      <td>0</td>\n",
       "      <td>0</td>\n",
       "      <td>0</td>\n",
       "    </tr>\n",
       "    <tr>\n",
       "      <th>3</th>\n",
       "      <td>0</td>\n",
       "      <td>1</td>\n",
       "      <td>0</td>\n",
       "      <td>0</td>\n",
       "      <td>0</td>\n",
       "      <td>0</td>\n",
       "      <td>0</td>\n",
       "      <td>0</td>\n",
       "      <td>0</td>\n",
       "      <td>0</td>\n",
       "      <td>...</td>\n",
       "      <td>0</td>\n",
       "      <td>0</td>\n",
       "      <td>0</td>\n",
       "      <td>0</td>\n",
       "      <td>0</td>\n",
       "      <td>0</td>\n",
       "      <td>0</td>\n",
       "      <td>0</td>\n",
       "      <td>0</td>\n",
       "      <td>0</td>\n",
       "    </tr>\n",
       "    <tr>\n",
       "      <th>4</th>\n",
       "      <td>0</td>\n",
       "      <td>1</td>\n",
       "      <td>0</td>\n",
       "      <td>0</td>\n",
       "      <td>0</td>\n",
       "      <td>0</td>\n",
       "      <td>0</td>\n",
       "      <td>0</td>\n",
       "      <td>0</td>\n",
       "      <td>0</td>\n",
       "      <td>...</td>\n",
       "      <td>0</td>\n",
       "      <td>0</td>\n",
       "      <td>0</td>\n",
       "      <td>0</td>\n",
       "      <td>0</td>\n",
       "      <td>0</td>\n",
       "      <td>0</td>\n",
       "      <td>0</td>\n",
       "      <td>0</td>\n",
       "      <td>0</td>\n",
       "    </tr>\n",
       "  </tbody>\n",
       "</table>\n",
       "<p>5 rows × 39 columns</p>\n",
       "</div>"
      ],
      "text/plain": [
       "   SDOT_COLCODE_0  SDOT_COLCODE_11  SDOT_COLCODE_12  SDOT_COLCODE_13  \\\n",
       "0               0                1                0                0   \n",
       "1               0                0                0                0   \n",
       "2               0                0                0                0   \n",
       "3               0                1                0                0   \n",
       "4               0                1                0                0   \n",
       "\n",
       "   SDOT_COLCODE_14  SDOT_COLCODE_15  SDOT_COLCODE_16  SDOT_COLCODE_18  \\\n",
       "0                0                0                0                0   \n",
       "1                0                0                1                0   \n",
       "2                1                0                0                0   \n",
       "3                0                0                0                0   \n",
       "4                0                0                0                0   \n",
       "\n",
       "   SDOT_COLCODE_21  SDOT_COLCODE_22  ...  SDOT_COLCODE_53  SDOT_COLCODE_54  \\\n",
       "0                0                0  ...                0                0   \n",
       "1                0                0  ...                0                0   \n",
       "2                0                0  ...                0                0   \n",
       "3                0                0  ...                0                0   \n",
       "4                0                0  ...                0                0   \n",
       "\n",
       "   SDOT_COLCODE_55  SDOT_COLCODE_56  SDOT_COLCODE_58  SDOT_COLCODE_61  \\\n",
       "0                0                0                0                0   \n",
       "1                0                0                0                0   \n",
       "2                0                0                0                0   \n",
       "3                0                0                0                0   \n",
       "4                0                0                0                0   \n",
       "\n",
       "   SDOT_COLCODE_64  SDOT_COLCODE_66  SDOT_COLCODE_68  SDOT_COLCODE_69  \n",
       "0                0                0                0                0  \n",
       "1                0                0                0                0  \n",
       "2                0                0                0                0  \n",
       "3                0                0                0                0  \n",
       "4                0                0                0                0  \n",
       "\n",
       "[5 rows x 39 columns]"
      ]
     },
     "execution_count": 23,
     "metadata": {},
     "output_type": "execute_result"
    }
   ],
   "source": [
    "print(colcodedummies.shape)\n",
    "colcodedummies.head(5)"
   ]
  },
  {
   "cell_type": "markdown",
   "metadata": {},
   "source": [
    "## Data Cleaning 5: Incorporating date/time as timestamps"
   ]
  },
  {
   "cell_type": "code",
   "execution_count": 24,
   "metadata": {},
   "outputs": [],
   "source": [
    "#Separate Date/Time from INCDTTM colum and create columns for Hour/Minute, Day/Month/Year\n",
    "data_df[\"INC_DATE_TIME\"] = pd.to_datetime(data_df[\"INCDTTM\"])\n",
    "data_df[\"MONTH\"] = pd.DatetimeIndex(data_df[\"INC_DATE_TIME\"]).month\n",
    "data_df[\"DAY_OF_WEEK\"] = data_df[\"INC_DATE_TIME\"].dt.dayofweek\n",
    "data_df[\"DAY_OF_MONTH\"] = pd.DatetimeIndex(data_df[\"INC_DATE_TIME\"]).day\n",
    "data_df[\"YEAR\"] = pd.DatetimeIndex(data_df[\"INC_DATE_TIME\"]).year\n",
    "\n",
    "#Find the nearest whole hour to the time the collision occurred, e.g. 14:25 -> 14:00 and 14:35 -> 15:00\n",
    "from datetime import datetime, timedelta\n",
    "\n",
    "#Create new columns\n",
    "data_df[\"TIME_ROUNDED_TO_NEAREST_HOUR\"] = 0\n",
    "data_df[\"DAY_STRING\"] = 0\n",
    "data_df[\"MONTH_STRING\"] = 0\n",
    "data_df[\"WEEKEND\"] = 0\n",
    "\n",
    "#Define some useful functions\n",
    "def hour_rounder(t):\n",
    "    # Rounds to nearest hour by adding a timedelta hour if minute >= 30\n",
    "    return (t.replace(second=0, microsecond=0, minute=0, hour=t.hour)\n",
    "               +timedelta(hours=t.minute//30))\n",
    "\n",
    "def get_dow(day_int):\n",
    "    if day_int == 1:\n",
    "        dow = 'Mon'\n",
    "    if day_int == 2:\n",
    "        dow = 'Tue'\n",
    "    if day_int == 3:\n",
    "        dow = 'Wed'\n",
    "    if day_int == 4:\n",
    "        dow = 'Thu'\n",
    "    if day_int == 5:\n",
    "        dow = 'Fri'\n",
    "    if day_int == 6:\n",
    "        dow = 'Sat'\n",
    "    if day_int == 7:\n",
    "        dow = 'Sun'\n",
    "    return dow\n",
    "\n",
    "def get_month(month_int):\n",
    "    if month_int == 1:\n",
    "        monthstring = 'Jan'\n",
    "    if month_int == 2:\n",
    "        monthstring = 'Feb'\n",
    "    if month_int == 3:\n",
    "        monthstring = 'Mar'\n",
    "    if month_int == 4:\n",
    "        monthstring = 'Apr'\n",
    "    if month_int == 5:\n",
    "        monthstring = 'May'\n",
    "    if month_int == 6:\n",
    "        monthstring = 'Jun'\n",
    "    if month_int == 7:\n",
    "        monthstring = 'Jul'\n",
    "    if month_int == 8:\n",
    "        monthstring = 'Aug'\n",
    "    if month_int == 9:\n",
    "        monthstring = 'Sep'\n",
    "    if month_int == 10:\n",
    "        monthstring = 'Oct'\n",
    "    if month_int == 11:\n",
    "        monthstring = 'Nov'\n",
    "    if month_int == 12:\n",
    "        monthstring = 'Dec'\n",
    "    return monthstring\n",
    "     \n",
    "def is_weekend(day_int):\n",
    "    if day_int <= 4:\n",
    "        isweekend = 0\n",
    "    else:\n",
    "        isweekend = 1\n",
    "    return isweekend\n",
    "\n",
    "start_time = time.time()"
   ]
  },
  {
   "cell_type": "code",
   "execution_count": null,
   "metadata": {},
   "outputs": [],
   "source": []
  },
  {
   "cell_type": "code",
   "execution_count": 25,
   "metadata": {},
   "outputs": [],
   "source": [
    "#Now store the nearest hour to the time of the accident as an integer and delete the rounded Datetime\n",
    "data_df[\"HOUR_NEAREST\"] = pd.DatetimeIndex(data_df[\"TIME_ROUNDED_TO_NEAREST_HOUR\"]).hour\n",
    "del data_df[\"TIME_ROUNDED_TO_NEAREST_HOUR\"]"
   ]
  },
  {
   "cell_type": "code",
   "execution_count": 26,
   "metadata": {},
   "outputs": [
    {
     "data": {
      "text/html": [
       "<div>\n",
       "<style scoped>\n",
       "    .dataframe tbody tr th:only-of-type {\n",
       "        vertical-align: middle;\n",
       "    }\n",
       "\n",
       "    .dataframe tbody tr th {\n",
       "        vertical-align: top;\n",
       "    }\n",
       "\n",
       "    .dataframe thead th {\n",
       "        text-align: right;\n",
       "    }\n",
       "</style>\n",
       "<table border=\"1\" class=\"dataframe\">\n",
       "  <thead>\n",
       "    <tr style=\"text-align: right;\">\n",
       "      <th></th>\n",
       "      <th>SEVERITYCODE</th>\n",
       "      <th>X</th>\n",
       "      <th>Y</th>\n",
       "      <th>INCKEY</th>\n",
       "      <th>ADDRTYPE</th>\n",
       "      <th>INTKEY</th>\n",
       "      <th>LOCATION</th>\n",
       "      <th>SEVERITYCODE.1</th>\n",
       "      <th>SEVERITYDESC</th>\n",
       "      <th>COLLISIONTYPE</th>\n",
       "      <th>...</th>\n",
       "      <th>SDOT_COLCODE_69</th>\n",
       "      <th>INC_DATE_TIME</th>\n",
       "      <th>MONTH</th>\n",
       "      <th>DAY_OF_WEEK</th>\n",
       "      <th>DAY_OF_MONTH</th>\n",
       "      <th>YEAR</th>\n",
       "      <th>DAY_STRING</th>\n",
       "      <th>MONTH_STRING</th>\n",
       "      <th>WEEKEND</th>\n",
       "      <th>HOUR_NEAREST</th>\n",
       "    </tr>\n",
       "  </thead>\n",
       "  <tbody>\n",
       "    <tr>\n",
       "      <th>0</th>\n",
       "      <td>2</td>\n",
       "      <td>-122.323148</td>\n",
       "      <td>47.703140</td>\n",
       "      <td>1307</td>\n",
       "      <td>Intersection</td>\n",
       "      <td>37475.0</td>\n",
       "      <td>5TH AVE NE AND NE 103RD ST</td>\n",
       "      <td>2</td>\n",
       "      <td>Injury Collision</td>\n",
       "      <td>Angles</td>\n",
       "      <td>...</td>\n",
       "      <td>0</td>\n",
       "      <td>2013-03-27 14:54:00</td>\n",
       "      <td>3</td>\n",
       "      <td>2</td>\n",
       "      <td>27</td>\n",
       "      <td>2013</td>\n",
       "      <td>0</td>\n",
       "      <td>0</td>\n",
       "      <td>0</td>\n",
       "      <td>0</td>\n",
       "    </tr>\n",
       "    <tr>\n",
       "      <th>1</th>\n",
       "      <td>1</td>\n",
       "      <td>-122.347294</td>\n",
       "      <td>47.647172</td>\n",
       "      <td>52200</td>\n",
       "      <td>Block</td>\n",
       "      <td>NaN</td>\n",
       "      <td>AURORA BR BETWEEN RAYE ST AND BRIDGE WAY N</td>\n",
       "      <td>1</td>\n",
       "      <td>Property Damage Only Collision</td>\n",
       "      <td>Sideswipe</td>\n",
       "      <td>...</td>\n",
       "      <td>0</td>\n",
       "      <td>2006-12-20 18:55:00</td>\n",
       "      <td>12</td>\n",
       "      <td>2</td>\n",
       "      <td>20</td>\n",
       "      <td>2006</td>\n",
       "      <td>0</td>\n",
       "      <td>0</td>\n",
       "      <td>0</td>\n",
       "      <td>0</td>\n",
       "    </tr>\n",
       "    <tr>\n",
       "      <th>2</th>\n",
       "      <td>1</td>\n",
       "      <td>-122.334540</td>\n",
       "      <td>47.607871</td>\n",
       "      <td>26700</td>\n",
       "      <td>Block</td>\n",
       "      <td>NaN</td>\n",
       "      <td>4TH AVE BETWEEN SENECA ST AND UNIVERSITY ST</td>\n",
       "      <td>1</td>\n",
       "      <td>Property Damage Only Collision</td>\n",
       "      <td>Parked Car</td>\n",
       "      <td>...</td>\n",
       "      <td>0</td>\n",
       "      <td>2004-11-18 10:20:00</td>\n",
       "      <td>11</td>\n",
       "      <td>3</td>\n",
       "      <td>18</td>\n",
       "      <td>2004</td>\n",
       "      <td>0</td>\n",
       "      <td>0</td>\n",
       "      <td>0</td>\n",
       "      <td>0</td>\n",
       "    </tr>\n",
       "    <tr>\n",
       "      <th>3</th>\n",
       "      <td>1</td>\n",
       "      <td>-122.334803</td>\n",
       "      <td>47.604803</td>\n",
       "      <td>1144</td>\n",
       "      <td>Block</td>\n",
       "      <td>NaN</td>\n",
       "      <td>2ND AVE BETWEEN MARION ST AND MADISON ST</td>\n",
       "      <td>1</td>\n",
       "      <td>Property Damage Only Collision</td>\n",
       "      <td>Other</td>\n",
       "      <td>...</td>\n",
       "      <td>0</td>\n",
       "      <td>2013-03-29 09:26:00</td>\n",
       "      <td>3</td>\n",
       "      <td>4</td>\n",
       "      <td>29</td>\n",
       "      <td>2013</td>\n",
       "      <td>0</td>\n",
       "      <td>0</td>\n",
       "      <td>0</td>\n",
       "      <td>0</td>\n",
       "    </tr>\n",
       "    <tr>\n",
       "      <th>4</th>\n",
       "      <td>2</td>\n",
       "      <td>-122.306426</td>\n",
       "      <td>47.545739</td>\n",
       "      <td>17700</td>\n",
       "      <td>Intersection</td>\n",
       "      <td>34387.0</td>\n",
       "      <td>SWIFT AVE S AND SWIFT AV OFF RP</td>\n",
       "      <td>2</td>\n",
       "      <td>Injury Collision</td>\n",
       "      <td>Angles</td>\n",
       "      <td>...</td>\n",
       "      <td>0</td>\n",
       "      <td>2004-01-28 08:04:00</td>\n",
       "      <td>1</td>\n",
       "      <td>2</td>\n",
       "      <td>28</td>\n",
       "      <td>2004</td>\n",
       "      <td>0</td>\n",
       "      <td>0</td>\n",
       "      <td>0</td>\n",
       "      <td>0</td>\n",
       "    </tr>\n",
       "  </tbody>\n",
       "</table>\n",
       "<p>5 rows × 107 columns</p>\n",
       "</div>"
      ],
      "text/plain": [
       "   SEVERITYCODE           X          Y  INCKEY      ADDRTYPE   INTKEY  \\\n",
       "0             2 -122.323148  47.703140    1307  Intersection  37475.0   \n",
       "1             1 -122.347294  47.647172   52200         Block      NaN   \n",
       "2             1 -122.334540  47.607871   26700         Block      NaN   \n",
       "3             1 -122.334803  47.604803    1144         Block      NaN   \n",
       "4             2 -122.306426  47.545739   17700  Intersection  34387.0   \n",
       "\n",
       "                                      LOCATION  SEVERITYCODE.1  \\\n",
       "0                   5TH AVE NE AND NE 103RD ST               2   \n",
       "1   AURORA BR BETWEEN RAYE ST AND BRIDGE WAY N               1   \n",
       "2  4TH AVE BETWEEN SENECA ST AND UNIVERSITY ST               1   \n",
       "3     2ND AVE BETWEEN MARION ST AND MADISON ST               1   \n",
       "4              SWIFT AVE S AND SWIFT AV OFF RP               2   \n",
       "\n",
       "                     SEVERITYDESC COLLISIONTYPE  ...  SDOT_COLCODE_69  \\\n",
       "0                Injury Collision        Angles  ...                0   \n",
       "1  Property Damage Only Collision     Sideswipe  ...                0   \n",
       "2  Property Damage Only Collision    Parked Car  ...                0   \n",
       "3  Property Damage Only Collision         Other  ...                0   \n",
       "4                Injury Collision        Angles  ...                0   \n",
       "\n",
       "        INC_DATE_TIME  MONTH  DAY_OF_WEEK DAY_OF_MONTH  YEAR  DAY_STRING  \\\n",
       "0 2013-03-27 14:54:00      3            2           27  2013           0   \n",
       "1 2006-12-20 18:55:00     12            2           20  2006           0   \n",
       "2 2004-11-18 10:20:00     11            3           18  2004           0   \n",
       "3 2013-03-29 09:26:00      3            4           29  2013           0   \n",
       "4 2004-01-28 08:04:00      1            2           28  2004           0   \n",
       "\n",
       "  MONTH_STRING  WEEKEND  HOUR_NEAREST  \n",
       "0            0        0             0  \n",
       "1            0        0             0  \n",
       "2            0        0             0  \n",
       "3            0        0             0  \n",
       "4            0        0             0  \n",
       "\n",
       "[5 rows x 107 columns]"
      ]
     },
     "execution_count": 26,
     "metadata": {},
     "output_type": "execute_result"
    }
   ],
   "source": [
    "#Check the result of this\n",
    "data_df.head(5)"
   ]
  },
  {
   "cell_type": "code",
   "execution_count": null,
   "metadata": {},
   "outputs": [],
   "source": []
  },
  {
   "cell_type": "markdown",
   "metadata": {},
   "source": [
    "## Data Cleaning 6: Other issues\n",
    "\n",
    "There are 16 accidents with no data for _ST\\_COLCODE_ , meaning we do not have a clear description of exactly what kind of accident occurred. This is a tiny fraction of the data, and it would be useful to include this feature in modelling. Rather than try to fudge the model by populating these missing values with the modal value for _ST\\_COLCODE_ we will simply get rid of these rows from the dataframe.\n",
    "\n",
    "Of more pressing concern, there are a large number of accidents with no Latitude/Longitude information. Let's explore these in more detail."
   ]
  },
  {
   "cell_type": "code",
   "execution_count": 27,
   "metadata": {},
   "outputs": [
    {
     "name": "stdout",
     "output_type": "stream",
     "text": [
      "SEVERITYCODE       0\n",
      "X               3964\n",
      "Y               3964\n",
      "INCKEY             0\n",
      "ADDRTYPE         839\n",
      "                ... \n",
      "YEAR               0\n",
      "DAY_STRING         0\n",
      "MONTH_STRING       0\n",
      "WEEKEND            0\n",
      "HOUR_NEAREST       0\n",
      "Length: 107, dtype: int64\n"
     ]
    }
   ],
   "source": [
    "#Check the dataframe for any NaNs\n",
    "print(data_df.isnull().sum(axis=0))"
   ]
  },
  {
   "cell_type": "code",
   "execution_count": 28,
   "metadata": {},
   "outputs": [
    {
     "name": "stdout",
     "output_type": "stream",
     "text": [
      "How many are null: 16\n",
      "Try to populate these with -999\n",
      "How many are null: 0\n"
     ]
    },
    {
     "name": "stderr",
     "output_type": "stream",
     "text": [
      "C:\\Users\\JAY\\Anaconda3\\lib\\site-packages\\ipykernel_launcher.py:15: SettingWithCopyWarning: \n",
      "A value is trying to be set on a copy of a slice from a DataFrame\n",
      "\n",
      "See the caveats in the documentation: https://pandas.pydata.org/pandas-docs/stable/user_guide/indexing.html#returning-a-view-versus-a-copy\n",
      "  from ipykernel import kernelapp as app\n"
     ]
    },
    {
     "name": "stdout",
     "output_type": "stream",
     "text": [
      "There are 4900 accidents without an ST_COLCODE.\n",
      " Deleting now...\n",
      "Dataframe shape now:\n"
     ]
    },
    {
     "data": {
      "text/plain": [
       "(170871, 107)"
      ]
     },
     "execution_count": 28,
     "metadata": {},
     "output_type": "execute_result"
    }
   ],
   "source": [
    "#ST_COLCODE\n",
    "#Find NaNs and set these to spaces.\n",
    "print(\"How many are null: \"+str(data_df[\"ST_COLCODE\"].isnull().sum()))\n",
    "print(\"Try to populate these with -999\")\n",
    "data_df[\"ST_COLCODE\"].fillna(' ', inplace=True)\n",
    "print(\"How many are null: \"+str(data_df[\"ST_COLCODE\"].isnull().sum()))\n",
    "\n",
    "#Get rid of accidents with no ST_COLCODE (null and/or former NaNs)\n",
    "todrop = data_df[\"ST_COLCODE\"] == ' '\n",
    "\n",
    "#Collate these and remove\n",
    "data_df[\"TODROP\"] = 0\n",
    "for i in range(0,len(todrop)):\n",
    "    if todrop[i] == True:\n",
    "        data_df[\"TODROP\"][i] = 1\n",
    "        \n",
    "print(\"There are \"+str(data_df[\"TODROP\"].values.sum())+\" accidents without an ST_COLCODE.\\n Deleting now...\")\n",
    "\n",
    "#Delete the temporary column \"TODROP\" and re-index the data\n",
    "todrop = data_df[\"TODROP\"] == 1\n",
    "data_df.drop(data_df.index[todrop], inplace=True)\n",
    "\n",
    "#Re-index dataframe to account for missing rows\n",
    "data_df.reset_index(inplace=True)\n",
    "\n",
    "#Delete the temporary \"TODROP\" column from the DataFrame\n",
    "if 'TODROP' in data_df:\n",
    "    del data_df[\"TODROP\"]\n",
    "    del data_df[\"index\"]\n",
    "\n",
    "#Cast from type 'object' to type 'int'\n",
    "data_df = data_df.astype({'ST_COLCODE':np.int64})\n",
    "    \n",
    "print(\"Dataframe shape now:\")\n",
    "data_df.shape"
   ]
  },
  {
   "cell_type": "code",
   "execution_count": 29,
   "metadata": {},
   "outputs": [
    {
     "name": "stdout",
     "output_type": "stream",
     "text": [
      "There are 3817 null location values. Will try to get X, Y data for these based on the locations of other accidents that share the same INTKEY.\n",
      "Added locations for 0 accidents based on shared INTKEYS.\n"
     ]
    }
   ],
   "source": [
    "#Missing geographical data\n",
    "#Find null values and replace these with NaN\n",
    "#Find NaNs and set these to spaces.\n",
    "print(\"There are \"+str(data_df[\"X\"].isnull().sum())+\" null location values. Will try to get X, Y data for these based on the locations of other accidents that share the same INTKEY.\")\n",
    "\n",
    "#Go through the accidents with no X,Y data and see if we can match them to others\n",
    "#that share the same INTKEY\n",
    "data_df[\"NOT_HAS_COORDS\"] = data_df[\"X\"].isnull()\n",
    "count = 0\n",
    "for i in range(0,len(data_df[\"X\"])):\n",
    "    if data_df[\"NOT_HAS_COORDS\"][i] == True:\n",
    "        if data_df[\"INTKEY\"][i] > 0:\n",
    "            #Find other accidents which share the same INTKEY\n",
    "            matched_intersections = data_df.loc[data_df[\"INTKEY\"] == data_df[\"INTKEY\"][i]]\n",
    "            #Do any of these have the required X,Y data?\n",
    "            with_geodata = matched_intersections[\"X\"].count()\n",
    "            if with_geodata > 0:\n",
    "                matched_intersections.head()\n",
    "                count += 1\n",
    "\n",
    "if \"NOT_HAS_COORDS\" in data_df:\n",
    "    del data_df[\"NOT_HAS_COORDS\"]\n",
    "    \n",
    "print(\"Added locations for \"+str(count)+\" accidents based on shared INTKEYS.\")"
   ]
  },
  {
   "cell_type": "code",
   "execution_count": null,
   "metadata": {},
   "outputs": [],
   "source": []
  },
  {
   "cell_type": "code",
   "execution_count": 30,
   "metadata": {},
   "outputs": [
    {
     "name": "stdout",
     "output_type": "stream",
     "text": [
      "There are 3817 accidents with no location information\n",
      "Populate these with -999 and then delete\n",
      "There are now 0 with NaN/null locations.\n",
      "I will now delete these...\n"
     ]
    },
    {
     "name": "stderr",
     "output_type": "stream",
     "text": [
      "C:\\Users\\JAY\\Anaconda3\\lib\\site-packages\\ipykernel_launcher.py:17: SettingWithCopyWarning: \n",
      "A value is trying to be set on a copy of a slice from a DataFrame\n",
      "\n",
      "See the caveats in the documentation: https://pandas.pydata.org/pandas-docs/stable/user_guide/indexing.html#returning-a-view-versus-a-copy\n"
     ]
    },
    {
     "name": "stdout",
     "output_type": "stream",
     "text": [
      "There are 3817 accidents without an location.\n",
      " Deleting now...\n",
      "Dataframe shape now:\n"
     ]
    },
    {
     "data": {
      "text/plain": [
       "(167054, 107)"
      ]
     },
     "execution_count": 30,
     "metadata": {},
     "output_type": "execute_result"
    }
   ],
   "source": [
    "#Remove accidents from the database which still have no location information\n",
    "#X, Y\n",
    "#Find NaNs and set these to spaces.\n",
    "print(\"There are \"+str(data_df[\"X\"].isnull().sum())+\" accidents with no location information\")\n",
    "print(\"Populate these with -999 and then delete\")\n",
    "data_df[\"X\"].fillna(-999, inplace=True)\n",
    "print(\"There are now \"+str(data_df[\"ST_COLCODE\"].isnull().sum())+\" with NaN/null locations.\")\n",
    "print(\"I will now delete these...\")\n",
    "\n",
    "#Get rid of accidents with no ST_COLCODE (null and/or former NaNs)\n",
    "todrop = data_df[\"X\"] == -999\n",
    "\n",
    "#Collate these and remove\n",
    "data_df[\"TODROP\"] = 0\n",
    "for i in range(0,len(todrop)):\n",
    "    if todrop[i] == True:\n",
    "        data_df[\"TODROP\"][i] = 1\n",
    "        \n",
    "print(\"There are \"+str(data_df[\"TODROP\"].values.sum())+\" accidents without an location.\\n Deleting now...\")\n",
    "\n",
    "#Delete the temporary column \"TODROP\" and re-index the data\n",
    "todrop = data_df[\"TODROP\"] == 1\n",
    "data_df.drop(data_df.index[todrop], inplace=True)\n",
    "\n",
    "#Re-index dataframe to account for missing rows\n",
    "data_df.reset_index(inplace=True)\n",
    "\n",
    "#Delete the temporary \"TODROP\" column from the DataFrame\n",
    "if 'TODROP' in data_df:\n",
    "    del data_df[\"TODROP\"]\n",
    "    del data_df[\"index\"]\n",
    "\n",
    "print(\"Dataframe shape now:\")\n",
    "data_df.shape"
   ]
  },
  {
   "cell_type": "markdown",
   "metadata": {},
   "source": [
    "## Data Cleaning: Final remarks\n",
    "\n",
    "We have spent a lot of time and effort so far cleaning the dataframe \"df\". This has included dropping uninformative columns, dropping rows which are missing one or more pieces of key information and casting categorical data in to numerical forms (integets/floats) that are suitable for machine learning algorithms to get their teeth into. \n",
    "\n",
    "There are still some columns which we have kept so far as they have been informative up until now (e.g. _SDOT\\_COLDESC_ , which provides a description of the meaning of _SDOT\\_COLCODE_ ) but these too will have to be excluded from the dataframe before model-building can begin. Rather than drop these columns from the dataframe \"df\" we will instead create a new dataframe called \"data\", and simply drop the unnecessary columns from there. \n",
    "\n",
    "In this manner it will be trivial to re-copy them back from \"df\" later if required."
   ]
  },
  {
   "cell_type": "code",
   "execution_count": null,
   "metadata": {},
   "outputs": [],
   "source": []
  },
  {
   "cell_type": "code",
   "execution_count": 31,
   "metadata": {},
   "outputs": [],
   "source": [
    "#Keep the full dataframe, but create a copy which drops columns which will not be used for modelling\n",
    "data = data_df.copy()\n",
    "if 'INCKEY' in data_df:\n",
    "    del data[\"INCKEY\"]\n",
    "    del data[\"INTKEY\"]\n",
    "    del data[\"ADDRTYPE\"]\n",
    "    del data[\"LOCATION\"]\n",
    "    del data[\"SEVERITYDESC\"]\n",
    "    del data[\"COLLISIONTYPE\"]\n",
    "    del data[\"INCDTTM\"]\n",
    "    del data[\"JUNCTIONTYPE\"]\n",
    "    del data[\"SDOT_COLDESC\"]"
   ]
  },
  {
   "cell_type": "markdown",
   "metadata": {},
   "source": [
    "This is the dataframe that will be used for model building. Let's take a look at it in more detail, shall we?"
   ]
  },
  {
   "cell_type": "code",
   "execution_count": 32,
   "metadata": {},
   "outputs": [
    {
     "name": "stdout",
     "output_type": "stream",
     "text": [
      "The shape of the dataframe is:\n",
      "(167054, 98)\n"
     ]
    }
   ],
   "source": [
    "print(\"The shape of the dataframe is:\")\n",
    "print(data.shape)"
   ]
  },
  {
   "cell_type": "code",
   "execution_count": 33,
   "metadata": {},
   "outputs": [
    {
     "name": "stdout",
     "output_type": "stream",
     "text": [
      "The data types are:\n"
     ]
    },
    {
     "data": {
      "text/plain": [
       "SEVERITYCODE        int64\n",
       "X                 float64\n",
       "Y                 float64\n",
       "SEVERITYCODE.1      int64\n",
       "PERSONCOUNT         int64\n",
       "                   ...   \n",
       "YEAR                int64\n",
       "DAY_STRING          int64\n",
       "MONTH_STRING        int64\n",
       "WEEKEND             int64\n",
       "HOUR_NEAREST        int64\n",
       "Length: 98, dtype: object"
      ]
     },
     "execution_count": 33,
     "metadata": {},
     "output_type": "execute_result"
    }
   ],
   "source": [
    "print(\"The data types are:\")\n",
    "data.dtypes"
   ]
  },
  {
   "cell_type": "code",
   "execution_count": 34,
   "metadata": {},
   "outputs": [
    {
     "name": "stdout",
     "output_type": "stream",
     "text": [
      "Here is a count of how many null/NaN values there are in each column:\n",
      "SEVERITYCODE      0\n",
      "X                 0\n",
      "Y                 0\n",
      "SEVERITYCODE.1    0\n",
      "PERSONCOUNT       0\n",
      "                 ..\n",
      "YEAR              0\n",
      "DAY_STRING        0\n",
      "MONTH_STRING      0\n",
      "WEEKEND           0\n",
      "HOUR_NEAREST      0\n",
      "Length: 98, dtype: int64\n"
     ]
    }
   ],
   "source": [
    "print(\"Here is a count of how many null/NaN values there are in each column:\")\n",
    "print(data.isnull().sum(axis=0))"
   ]
  },
  {
   "cell_type": "code",
   "execution_count": null,
   "metadata": {},
   "outputs": [],
   "source": []
  },
  {
   "cell_type": "markdown",
   "metadata": {},
   "source": [
    "## Data Exploration 1: Where do accidents occur?\n",
    "\n",
    "The Seattle Open Data portal record of traffic accidents include the latitude and longitude (as X, Y, respectively) of every accident that occurred in the city council area. Let's create a map in Folium to see where these occur. This might highlight some key \"choke points\" in the city road network and give context for some of the predictions that eventually come out of the model."
   ]
  },
  {
   "cell_type": "code",
   "execution_count": 177,
   "metadata": {},
   "outputs": [
    {
     "name": "stdout",
     "output_type": "stream",
     "text": [
      "47.61892976281737\n",
      "-122.33034570685248\n"
     ]
    },
    {
     "data": {
      "text/html": [
       "<div style=\"width:100%;\"><div style=\"position:relative;width:100%;height:0;padding-bottom:60%;\"><span style=\"color:#565656\">Make this Notebook Trusted to load map: File -> Trust Notebook</span><iframe src=\"about:blank\" style=\"position:absolute;width:100%;height:100%;left:0;top:0;border:none !important;\" data-html=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 onload=\"this.contentDocument.open();this.contentDocument.write(atob(this.getAttribute('data-html')));this.contentDocument.close();\" allowfullscreen webkitallowfullscreen mozallowfullscreen></iframe></div></div>"
      ],
      "text/plain": [
       "<folium.folium.Map at 0x2766f4ce898>"
      ]
     },
     "execution_count": 177,
     "metadata": {},
     "output_type": "execute_result"
    }
   ],
   "source": [
    "import folium\n",
    "\n",
    "#Get the median latitude and logitude and centre the map there\n",
    "lon_med = data[\"X\"].mean()\n",
    "lat_med = data[\"Y\"].mean()\n",
    "\n",
    "print(lat_med)\n",
    "print(lon_med)\n",
    "\n",
    "seattle_map = folium.Map(location=[lat_med, lon_med], zoom_start=11)\n",
    "seattle_map"
   ]
  },
  {
   "cell_type": "markdown",
   "metadata": {},
   "source": [
    "## Data exploration 2 -- histograms"
   ]
  },
  {
   "cell_type": "code",
   "execution_count": 36,
   "metadata": {},
   "outputs": [],
   "source": [
    "from collections import Counter\n",
    "\n",
    "#Set up gpplot style\n",
    "plt.style.use('ggplot')\n"
   ]
  },
  {
   "cell_type": "code",
   "execution_count": 37,
   "metadata": {
    "scrolled": true
   },
   "outputs": [
    {
     "data": {
      "text/html": [
       "<div>\n",
       "<style scoped>\n",
       "    .dataframe tbody tr th:only-of-type {\n",
       "        vertical-align: middle;\n",
       "    }\n",
       "\n",
       "    .dataframe tbody tr th {\n",
       "        vertical-align: top;\n",
       "    }\n",
       "\n",
       "    .dataframe thead th {\n",
       "        text-align: right;\n",
       "    }\n",
       "</style>\n",
       "<table border=\"1\" class=\"dataframe\">\n",
       "  <thead>\n",
       "    <tr style=\"text-align: right;\">\n",
       "      <th></th>\n",
       "      <th>SEVERITYCODE</th>\n",
       "      <th>X</th>\n",
       "      <th>Y</th>\n",
       "      <th>INCKEY</th>\n",
       "      <th>ADDRTYPE</th>\n",
       "      <th>INTKEY</th>\n",
       "      <th>LOCATION</th>\n",
       "      <th>SEVERITYCODE.1</th>\n",
       "      <th>SEVERITYDESC</th>\n",
       "      <th>COLLISIONTYPE</th>\n",
       "      <th>...</th>\n",
       "      <th>SDOT_COLCODE_69</th>\n",
       "      <th>INC_DATE_TIME</th>\n",
       "      <th>MONTH</th>\n",
       "      <th>DAY_OF_WEEK</th>\n",
       "      <th>DAY_OF_MONTH</th>\n",
       "      <th>YEAR</th>\n",
       "      <th>DAY_STRING</th>\n",
       "      <th>MONTH_STRING</th>\n",
       "      <th>WEEKEND</th>\n",
       "      <th>HOUR_NEAREST</th>\n",
       "    </tr>\n",
       "  </thead>\n",
       "  <tbody>\n",
       "    <tr>\n",
       "      <th>0</th>\n",
       "      <td>2</td>\n",
       "      <td>-122.323148</td>\n",
       "      <td>47.703140</td>\n",
       "      <td>1307</td>\n",
       "      <td>Intersection</td>\n",
       "      <td>37475.0</td>\n",
       "      <td>5TH AVE NE AND NE 103RD ST</td>\n",
       "      <td>2</td>\n",
       "      <td>Injury Collision</td>\n",
       "      <td>Angles</td>\n",
       "      <td>...</td>\n",
       "      <td>0</td>\n",
       "      <td>2013-03-27 14:54:00</td>\n",
       "      <td>3</td>\n",
       "      <td>2</td>\n",
       "      <td>27</td>\n",
       "      <td>2013</td>\n",
       "      <td>0</td>\n",
       "      <td>0</td>\n",
       "      <td>0</td>\n",
       "      <td>0</td>\n",
       "    </tr>\n",
       "    <tr>\n",
       "      <th>1</th>\n",
       "      <td>1</td>\n",
       "      <td>-122.347294</td>\n",
       "      <td>47.647172</td>\n",
       "      <td>52200</td>\n",
       "      <td>Block</td>\n",
       "      <td>NaN</td>\n",
       "      <td>AURORA BR BETWEEN RAYE ST AND BRIDGE WAY N</td>\n",
       "      <td>1</td>\n",
       "      <td>Property Damage Only Collision</td>\n",
       "      <td>Sideswipe</td>\n",
       "      <td>...</td>\n",
       "      <td>0</td>\n",
       "      <td>2006-12-20 18:55:00</td>\n",
       "      <td>12</td>\n",
       "      <td>2</td>\n",
       "      <td>20</td>\n",
       "      <td>2006</td>\n",
       "      <td>0</td>\n",
       "      <td>0</td>\n",
       "      <td>0</td>\n",
       "      <td>0</td>\n",
       "    </tr>\n",
       "    <tr>\n",
       "      <th>2</th>\n",
       "      <td>1</td>\n",
       "      <td>-122.334540</td>\n",
       "      <td>47.607871</td>\n",
       "      <td>26700</td>\n",
       "      <td>Block</td>\n",
       "      <td>NaN</td>\n",
       "      <td>4TH AVE BETWEEN SENECA ST AND UNIVERSITY ST</td>\n",
       "      <td>1</td>\n",
       "      <td>Property Damage Only Collision</td>\n",
       "      <td>Parked Car</td>\n",
       "      <td>...</td>\n",
       "      <td>0</td>\n",
       "      <td>2004-11-18 10:20:00</td>\n",
       "      <td>11</td>\n",
       "      <td>3</td>\n",
       "      <td>18</td>\n",
       "      <td>2004</td>\n",
       "      <td>0</td>\n",
       "      <td>0</td>\n",
       "      <td>0</td>\n",
       "      <td>0</td>\n",
       "    </tr>\n",
       "    <tr>\n",
       "      <th>3</th>\n",
       "      <td>1</td>\n",
       "      <td>-122.334803</td>\n",
       "      <td>47.604803</td>\n",
       "      <td>1144</td>\n",
       "      <td>Block</td>\n",
       "      <td>NaN</td>\n",
       "      <td>2ND AVE BETWEEN MARION ST AND MADISON ST</td>\n",
       "      <td>1</td>\n",
       "      <td>Property Damage Only Collision</td>\n",
       "      <td>Other</td>\n",
       "      <td>...</td>\n",
       "      <td>0</td>\n",
       "      <td>2013-03-29 09:26:00</td>\n",
       "      <td>3</td>\n",
       "      <td>4</td>\n",
       "      <td>29</td>\n",
       "      <td>2013</td>\n",
       "      <td>0</td>\n",
       "      <td>0</td>\n",
       "      <td>0</td>\n",
       "      <td>0</td>\n",
       "    </tr>\n",
       "    <tr>\n",
       "      <th>4</th>\n",
       "      <td>2</td>\n",
       "      <td>-122.306426</td>\n",
       "      <td>47.545739</td>\n",
       "      <td>17700</td>\n",
       "      <td>Intersection</td>\n",
       "      <td>34387.0</td>\n",
       "      <td>SWIFT AVE S AND SWIFT AV OFF RP</td>\n",
       "      <td>2</td>\n",
       "      <td>Injury Collision</td>\n",
       "      <td>Angles</td>\n",
       "      <td>...</td>\n",
       "      <td>0</td>\n",
       "      <td>2004-01-28 08:04:00</td>\n",
       "      <td>1</td>\n",
       "      <td>2</td>\n",
       "      <td>28</td>\n",
       "      <td>2004</td>\n",
       "      <td>0</td>\n",
       "      <td>0</td>\n",
       "      <td>0</td>\n",
       "      <td>0</td>\n",
       "    </tr>\n",
       "  </tbody>\n",
       "</table>\n",
       "<p>5 rows × 107 columns</p>\n",
       "</div>"
      ],
      "text/plain": [
       "   SEVERITYCODE           X          Y  INCKEY      ADDRTYPE   INTKEY  \\\n",
       "0             2 -122.323148  47.703140    1307  Intersection  37475.0   \n",
       "1             1 -122.347294  47.647172   52200         Block      NaN   \n",
       "2             1 -122.334540  47.607871   26700         Block      NaN   \n",
       "3             1 -122.334803  47.604803    1144         Block      NaN   \n",
       "4             2 -122.306426  47.545739   17700  Intersection  34387.0   \n",
       "\n",
       "                                      LOCATION  SEVERITYCODE.1  \\\n",
       "0                   5TH AVE NE AND NE 103RD ST               2   \n",
       "1   AURORA BR BETWEEN RAYE ST AND BRIDGE WAY N               1   \n",
       "2  4TH AVE BETWEEN SENECA ST AND UNIVERSITY ST               1   \n",
       "3     2ND AVE BETWEEN MARION ST AND MADISON ST               1   \n",
       "4              SWIFT AVE S AND SWIFT AV OFF RP               2   \n",
       "\n",
       "                     SEVERITYDESC COLLISIONTYPE  ...  SDOT_COLCODE_69  \\\n",
       "0                Injury Collision        Angles  ...                0   \n",
       "1  Property Damage Only Collision     Sideswipe  ...                0   \n",
       "2  Property Damage Only Collision    Parked Car  ...                0   \n",
       "3  Property Damage Only Collision         Other  ...                0   \n",
       "4                Injury Collision        Angles  ...                0   \n",
       "\n",
       "        INC_DATE_TIME  MONTH  DAY_OF_WEEK DAY_OF_MONTH  YEAR  DAY_STRING  \\\n",
       "0 2013-03-27 14:54:00      3            2           27  2013           0   \n",
       "1 2006-12-20 18:55:00     12            2           20  2006           0   \n",
       "2 2004-11-18 10:20:00     11            3           18  2004           0   \n",
       "3 2013-03-29 09:26:00      3            4           29  2013           0   \n",
       "4 2004-01-28 08:04:00      1            2           28  2004           0   \n",
       "\n",
       "  MONTH_STRING  WEEKEND  HOUR_NEAREST  \n",
       "0            0        0             0  \n",
       "1            0        0             0  \n",
       "2            0        0             0  \n",
       "3            0        0             0  \n",
       "4            0        0             0  \n",
       "\n",
       "[5 rows x 107 columns]"
      ]
     },
     "execution_count": 37,
     "metadata": {},
     "output_type": "execute_result"
    }
   ],
   "source": [
    "#A reminder of what columns are in the dataset:\n",
    "data_df.head(5)"
   ]
  },
  {
   "cell_type": "code",
   "execution_count": 38,
   "metadata": {},
   "outputs": [
    {
     "data": {
      "text/plain": [
       "Block           105870\n",
       "Intersection     61184\n",
       "Name: ADDRTYPE, dtype: int64"
      ]
     },
     "execution_count": 38,
     "metadata": {},
     "output_type": "execute_result"
    }
   ],
   "source": [
    "data_df[\"ADDRTYPE\"].value_counts()"
   ]
  },
  {
   "cell_type": "code",
   "execution_count": 93,
   "metadata": {},
   "outputs": [
    {
     "name": "stdout",
     "output_type": "stream",
     "text": [
      "There are 167054 entries in df currently.\n"
     ]
    },
    {
     "data": {
      "image/png": "[encoded data removed]",
      "text/plain": [
       "<Figure size 1152x1152 with 2 Axes>"
      ]
     },
     "metadata": {},
     "output_type": "display_data"
    }
   ],
   "source": [
    "print(\"There are \"+str(len(data_df))+\" entries in df currently.\")\n",
    "\n",
    "#Create a 2x2 set of bar charts to describe the accident data\n",
    "plt.rcParams[\"figure.figsize\"] = (16,16)\n",
    "#1 - Accident severities\n",
    "plt.subplot(2,2,1)\n",
    "freqs = Counter(data_df[\"SEVERITYDESC\"])\n",
    "xvals = range(len(freqs.values()))\n",
    "plt.title(\"Distribution of accident outcomes\")\n",
    "plt.title('(a)')\n",
    "plt.ylabel(\"Number of accidents\")\n",
    "plt.grid(b=None)\n",
    "plt.bar(xvals, freqs.values() , color='#3777AD')\n",
    "plt.xticks(xvals, freqs.keys(), rotation='vertical')\n",
    "plt.yscale('log')\n",
    "\n",
    "#2 - Number of people involved\n",
    "plt.subplot(2,2,2)\n",
    "freqs = Counter(data_df[\"PERSONCOUNT\"])\n",
    "xvals = range(len(freqs.values()))\n",
    "plt.title('(b)')\n",
    "plt.xlabel(\"Number of people involved\")\n",
    "plt.ylabel(\"log(Number of accidents)\")\n",
    "plt.grid(b=None)\n",
    "plt.hist(data_df[\"PERSONCOUNT\"], align='left',color='#3777AD')\n",
    "plt.yscale('log')\n",
    "\n",
    "plt.subplots_adjust(hspace=0.6)\n",
    "#plt.savefig('./FigZZZ_accident_histograms.png', bbox_inches='tight')"
   ]
  },
  {
   "cell_type": "code",
   "execution_count": 40,
   "metadata": {},
   "outputs": [
    {
     "name": "stdout",
     "output_type": "stream",
     "text": [
      "Frequency of weather types:\n",
      "Clear                       106995\n",
      "Raining                      31640\n",
      "Overcast                     26453\n",
      "Snowing                        825\n",
      "Fog/Smog/Smoke                 539\n",
      "Other                          244\n",
      "Sleet/Hail/Freezing Rain       110\n",
      "Blowing Sand/Dirt               44\n",
      "Severe Crosswind                24\n",
      "Partly Cloudy                    5\n",
      "Name: WEATHER, dtype: int64\n",
      "167054\n"
     ]
    }
   ],
   "source": [
    "#Metadata for the charts that follow:\n",
    "#1 - Weather conditions\n",
    "print('Frequency of weather types:')\n",
    "print(data_df[\"WEATHER\"].value_counts())\n",
    "print(len(data_df[\"WEATHER\"]))"
   ]
  },
  {
   "cell_type": "code",
   "execution_count": 41,
   "metadata": {},
   "outputs": [
    {
     "name": "stdout",
     "output_type": "stream",
     "text": [
      "Frequency of rifferent road conditions:\n",
      "Dry               119599\n",
      "Wet                45137\n",
      "Ice                 1073\n",
      "Snow/Slush           838\n",
      "Other                 98\n",
      "Standing Water        95\n",
      "Sand/Mud/Dirt         58\n",
      "Oil                   50\n",
      "Name: ROADCOND, dtype: int64\n"
     ]
    }
   ],
   "source": [
    "#2 - Road conditions\n",
    "print('Frequency of rifferent road conditions:')\n",
    "print(data_df[\"ROADCOND\"].value_counts())"
   ]
  },
  {
   "cell_type": "code",
   "execution_count": 42,
   "metadata": {},
   "outputs": [
    {
     "name": "stdout",
     "output_type": "stream",
     "text": [
      "Frequency of different light conditions:\n",
      "Daylight                    110564\n",
      "Dark - Street Lights On      45770\n",
      "Dusk                          5556\n",
      "Dawn                          2346\n",
      "Dark - No Street Lights       1338\n",
      "Dark - Street Lights Off      1080\n",
      "Other                          160\n",
      "Dark - Unknown Lighting          9\n",
      "Name: LIGHTCOND, dtype: int64\n"
     ]
    }
   ],
   "source": [
    "#3 - Light conditions\n",
    "print('Frequency of different light conditions:')\n",
    "print(data_df[\"LIGHTCOND\"].value_counts())"
   ]
  },
  {
   "cell_type": "code",
   "execution_count": 43,
   "metadata": {},
   "outputs": [
    {
     "name": "stdout",
     "output_type": "stream",
     "text": [
      "Months of the year (there should be 12...)\n",
      "10    15145\n",
      "6     14503\n",
      "5     14432\n",
      "7     14326\n",
      "8     14219\n",
      "11    14021\n",
      "1     13945\n",
      "3     13939\n",
      "9     13865\n",
      "4     13794\n",
      "12    12963\n",
      "2     11902\n",
      "Name: MONTH, dtype: int64\n"
     ]
    }
   ],
   "source": [
    "#4 - Month of year in which accident happens\n",
    "print('Months of the year (there should be 12...)')\n",
    "print(data_df[\"MONTH\"].value_counts())"
   ]
  },
  {
   "cell_type": "code",
   "execution_count": 94,
   "metadata": {},
   "outputs": [
    {
     "data": {
      "image/png": "[encoded data removed]",
      "text/plain": [
       "<Figure size 1152x1152 with 4 Axes>"
      ]
     },
     "metadata": {},
     "output_type": "display_data"
    }
   ],
   "source": [
    "#Create a 2x2 set of bar charts to describe the accident data\n",
    "plt.rcParams[\"figure.figsize\"] = (16,16)\n",
    "#1 - Weather conditions\n",
    "plt.subplot(2,2,1)\n",
    "freqs = Counter(data_df[\"WEATHER\"])\n",
    "xvals = range(len(freqs.values()))\n",
    "plt.title('(a)')\n",
    "plt.ylabel(\"Number of accidents\")\n",
    "plt.grid(b=None)\n",
    "plt.bar(xvals, freqs.values() , color='#3777AD')\n",
    "plt.xticks(xvals, freqs.keys(), rotation='vertical')\n",
    "\n",
    "#2 - Road conditions\n",
    "plt.subplot(2,2,2)\n",
    "freqs = Counter(data_df[\"ROADCOND\"])\n",
    "xvals = range(len(freqs.values()))\n",
    "plt.title('(b)')\n",
    "plt.ylabel(\"Number of accidents\")\n",
    "plt.grid(b=None)\n",
    "plt.bar(xvals, freqs.values() , color='#3777AD')\n",
    "plt.xticks(xvals, freqs.keys(), rotation='vertical')\n",
    "\n",
    "#3 - Light conditions\n",
    "plt.subplot(2,2,3)\n",
    "freqs = Counter(data_df[\"LIGHTCOND\"])\n",
    "xvals = range(len(freqs.values()))\n",
    "plt.title('(c)')\n",
    "plt.ylabel(\"Number of accidents\")\n",
    "plt.grid(b=None)\n",
    "plt.bar(xvals, freqs.values() , color='#3777AD')\n",
    "plt.xticks(xvals, freqs.keys(), rotation='vertical')\n",
    "\n",
    "#4 - ADDRTYPE\n",
    "plt.subplot(2,2,4)\n",
    "freqs = Counter(data_df[\"COLLISIONTYPE\"])\n",
    "xvals = range(len(freqs.values()))\n",
    "plt.title('(d)')\n",
    "plt.ylabel(\"Number of accidents\")\n",
    "plt.grid(b=None)\n",
    "plt.bar(xvals, freqs.values() , color='#3777AD')\n",
    "plt.xticks(xvals, freqs.keys(), rotation='vertical')\n",
    "plt.subplots_adjust(hspace=0.6)"
   ]
  },
  {
   "cell_type": "code",
   "execution_count": 95,
   "metadata": {},
   "outputs": [
    {
     "data": {
      "image/png": "[encoded data removed]",
      "text/plain": [
       "<Figure size 1152x576 with 2 Axes>"
      ]
     },
     "metadata": {},
     "output_type": "display_data"
    }
   ],
   "source": [
    "#Create a 2x2 set of bar charts to describe the accident data\n",
    "plt.rcParams[\"figure.figsize\"] = (16,8)\n",
    "\n",
    "#1 - Day of week in which accident happens\n",
    "plt.subplot(1,2,1)\n",
    "freqs = Counter(data_df[\"DAY_OF_WEEK\"])\n",
    "xvals = range(len(freqs.values()))\n",
    "#Order the days\n",
    "ordered = dict(sorted(freqs.items()))\n",
    "daynames = ['Mon','Tue','Wed','Thu','Fri','Sat','Sun']\n",
    "plt.title('(a)')\n",
    "plt.xlabel(\"Day of week\")\n",
    "plt.ylabel(\"Number of accidents\")\n",
    "plt.grid(b=None)\n",
    "plt.bar(xvals, ordered.values() , color='#3777AD')\n",
    "plt.xticks(xvals, daynames, rotation='vertical')\n",
    "\n",
    "#2 - Month of year in which accident happens\n",
    "plt.subplot(1,2,2)\n",
    "freqs = Counter(data_df[\"MONTH\"])\n",
    "xvals = range(len(freqs.values()))\n",
    "#Order the months\n",
    "ordered = dict(sorted(freqs.items()))\n",
    "monthnames = ['Jan','Feb','Mar','Apr','May', 'Jun','Jul','Aug','Sep','Oct','Nov','Dec']\n",
    "plt.title('(b)')\n",
    "plt.xlabel(\"Month\")\n",
    "plt.ylabel(\"Number of accidents\")\n",
    "plt.grid(b=None)\n",
    "plt.bar(xvals, ordered.values() , color='#3777AD')\n",
    "plt.xticks(xvals, monthnames, rotation='vertical')\n",
    "plt.subplots_adjust(hspace=0.6)"
   ]
  },
  {
   "cell_type": "markdown",
   "metadata": {},
   "source": [
    "## Pre-Processing: Feature extraction\n",
    "\n",
    "We now enter the final phase of data preparation -- deciding which of the remaining columns from the dataframe to include in our model building. Let's begin by looking at a correlation matrix for the dataset:"
   ]
  },
  {
   "cell_type": "code",
   "execution_count": 46,
   "metadata": {},
   "outputs": [
    {
     "data": {
      "text/plain": [
       "<matplotlib.axes._subplots.AxesSubplot at 0x2765d8587f0>"
      ]
     },
     "execution_count": 46,
     "metadata": {},
     "output_type": "execute_result"
    },
    {
     "data": {
      "image/png": "[encoded data removed]",
      "text/plain": [
       "<Figure size 1296x1152 with 2 Axes>"
      ]
     },
     "metadata": {},
     "output_type": "display_data"
    }
   ],
   "source": [
    "if \"Alley\" in data:\n",
    "    del data[\"Alley\"]\n",
    "\n",
    "plt.rcParams[\"figure.figsize\"] = (18,16)\n",
    "corr = data.corr()\n",
    "plt.rc('xtick',labelsize=10)\n",
    "plt.rc('ytick',labelsize=10)\n",
    "sns.heatmap(corr, xticklabels=corr.columns, yticklabels=corr.columns)"
   ]
  },
  {
   "cell_type": "markdown",
   "metadata": {},
   "source": [
    "Little is hugely surprising in here: there seem to be only weak/marginal correlations between _SEVERITYCODE_  and weather/light conditions, however there are is also an interesting correlation between _PEDROWNOTGRT_ and \"Dark - Street Lights On\". Presumably this is because in low light conditions drivers often don't see pedestrians? \n",
    "\n",
    "It looks as if there is a correlation between _SEVERITYCODE_ and _ST\\_COLCODE_ , which makes sense as we would expect different types of collision to have more serious consequences, e.g. a head-on collision on a motorway is likely to have more deaths/serious injuries than a low-speed read-end collision.\n",
    "\n",
    "There are clear correlations between _SEVERITYCODE_ and _INJURIES_ , _SERIOUSINJURIES_ and _FATALITIES_ but these should surprise no-one as a combination of the latter three features **defines** _SEVERITYCODE_ . The purpose of the model is to predict the _SEVERITYCODE_ of an accident based on the environmental/geographical conditions. There is little point building a model that tells us \"count the injuries, and if there are a lot then the accident is serious!\". We will have to consider excluding these features from the dataset.\n",
    "\n",
    "Deciding whether to keep or remove other features is a bit more subjective, however it is helpful to think of this from the point of view of an emergency services operator: an accident has occurred, and you wish to be able to make a quick prediction as to its severity. What key features might you expect to be able to know about _before_ the first responders arrive at the scene in order to be able to influence who you send? Clearly you cannot know the number of fatalities in advance, but might the person reporting the accident be able to provide some useful information to help you predict the severity of the accident? It seems logical that the time, day, date, weather and road conditions would be known at the time of the accident. It is also likely that the person reporting the accident would be able to tell you if there were pedestrians/cyclists involved, and how many cars. They may also be able to tell you if alcohol is obviously a factor, if the accident took place on a pedestrian crossing/crosswalk, whether the accident involved a parked car and to provide a brief description of the nature of the collision (which is encoded in _SDOT\\_COLCODE_ ). We should therefore keep these features.\n",
    "\n",
    "As a reminder, the target variable is _SEVERITYCODE_ , so clearly this cannot be part of the feature set."
   ]
  },
  {
   "cell_type": "markdown",
   "metadata": {},
   "source": [
    "## Balancing the dataset\n",
    "\n",
    "As is clear from the histogram of severity code shown above (and repeated below, using a linearly-scaled y axis), the vast majority of accidents involve either no injuries, or minor injuries only. Only a small number of accidents involve serious injuries or fatalities. If we train a classification model on these data, the model will be biased. To fix this issue we need to resample the data. \n",
    "\n",
    "I propose to rebalance the data by:\n",
    "\n",
    "1. Down-sampling _SEVERITYCODE_ 1, 2 and 3 (no, minor and major injuries, respectively) to match the number of samples as is in _SEVERITYCODE_ 4 (fatalities)\n",
    "2. Converting _SEVERITYCODE_ in to a binary variable with 0 for no/minor injuries and 1 for major injuries/fatalities.\n",
    "\n",
    "\n",
    "In addition to balancing the dataset between the four values that can be taken by the target variable (_SEVERITYCODE_ ) this will also drastically reduce overall size of the dataset, making it much more feasible for us to build and test our models. "
   ]
  },
  {
   "cell_type": "code",
   "execution_count": 47,
   "metadata": {},
   "outputs": [
    {
     "data": {
      "text/html": [
       "<div>\n",
       "<style scoped>\n",
       "    .dataframe tbody tr th:only-of-type {\n",
       "        vertical-align: middle;\n",
       "    }\n",
       "\n",
       "    .dataframe tbody tr th {\n",
       "        vertical-align: top;\n",
       "    }\n",
       "\n",
       "    .dataframe thead th {\n",
       "        text-align: right;\n",
       "    }\n",
       "</style>\n",
       "<table border=\"1\" class=\"dataframe\">\n",
       "  <thead>\n",
       "    <tr style=\"text-align: right;\">\n",
       "      <th></th>\n",
       "      <th>SEVERITYCODE</th>\n",
       "      <th>X</th>\n",
       "      <th>Y</th>\n",
       "      <th>SEVERITYCODE.1</th>\n",
       "      <th>PERSONCOUNT</th>\n",
       "      <th>PEDCOUNT</th>\n",
       "      <th>PEDCYLCOUNT</th>\n",
       "      <th>VEHCOUNT</th>\n",
       "      <th>SDOT_COLCODE</th>\n",
       "      <th>INATTENTIONIND</th>\n",
       "      <th>...</th>\n",
       "      <th>SDOT_COLCODE_69</th>\n",
       "      <th>INC_DATE_TIME</th>\n",
       "      <th>MONTH</th>\n",
       "      <th>DAY_OF_WEEK</th>\n",
       "      <th>DAY_OF_MONTH</th>\n",
       "      <th>YEAR</th>\n",
       "      <th>DAY_STRING</th>\n",
       "      <th>MONTH_STRING</th>\n",
       "      <th>WEEKEND</th>\n",
       "      <th>HOUR_NEAREST</th>\n",
       "    </tr>\n",
       "  </thead>\n",
       "  <tbody>\n",
       "    <tr>\n",
       "      <th>0</th>\n",
       "      <td>2</td>\n",
       "      <td>-122.323148</td>\n",
       "      <td>47.703140</td>\n",
       "      <td>2</td>\n",
       "      <td>2</td>\n",
       "      <td>0</td>\n",
       "      <td>0</td>\n",
       "      <td>2</td>\n",
       "      <td>11</td>\n",
       "      <td>0</td>\n",
       "      <td>...</td>\n",
       "      <td>0</td>\n",
       "      <td>2013-03-27 14:54:00</td>\n",
       "      <td>3</td>\n",
       "      <td>2</td>\n",
       "      <td>27</td>\n",
       "      <td>2013</td>\n",
       "      <td>0</td>\n",
       "      <td>0</td>\n",
       "      <td>0</td>\n",
       "      <td>0</td>\n",
       "    </tr>\n",
       "    <tr>\n",
       "      <th>1</th>\n",
       "      <td>1</td>\n",
       "      <td>-122.347294</td>\n",
       "      <td>47.647172</td>\n",
       "      <td>1</td>\n",
       "      <td>2</td>\n",
       "      <td>0</td>\n",
       "      <td>0</td>\n",
       "      <td>2</td>\n",
       "      <td>16</td>\n",
       "      <td>0</td>\n",
       "      <td>...</td>\n",
       "      <td>0</td>\n",
       "      <td>2006-12-20 18:55:00</td>\n",
       "      <td>12</td>\n",
       "      <td>2</td>\n",
       "      <td>20</td>\n",
       "      <td>2006</td>\n",
       "      <td>0</td>\n",
       "      <td>0</td>\n",
       "      <td>0</td>\n",
       "      <td>0</td>\n",
       "    </tr>\n",
       "    <tr>\n",
       "      <th>2</th>\n",
       "      <td>1</td>\n",
       "      <td>-122.334540</td>\n",
       "      <td>47.607871</td>\n",
       "      <td>1</td>\n",
       "      <td>4</td>\n",
       "      <td>0</td>\n",
       "      <td>0</td>\n",
       "      <td>3</td>\n",
       "      <td>14</td>\n",
       "      <td>0</td>\n",
       "      <td>...</td>\n",
       "      <td>0</td>\n",
       "      <td>2004-11-18 10:20:00</td>\n",
       "      <td>11</td>\n",
       "      <td>3</td>\n",
       "      <td>18</td>\n",
       "      <td>2004</td>\n",
       "      <td>0</td>\n",
       "      <td>0</td>\n",
       "      <td>0</td>\n",
       "      <td>0</td>\n",
       "    </tr>\n",
       "    <tr>\n",
       "      <th>3</th>\n",
       "      <td>1</td>\n",
       "      <td>-122.334803</td>\n",
       "      <td>47.604803</td>\n",
       "      <td>1</td>\n",
       "      <td>3</td>\n",
       "      <td>0</td>\n",
       "      <td>0</td>\n",
       "      <td>3</td>\n",
       "      <td>11</td>\n",
       "      <td>0</td>\n",
       "      <td>...</td>\n",
       "      <td>0</td>\n",
       "      <td>2013-03-29 09:26:00</td>\n",
       "      <td>3</td>\n",
       "      <td>4</td>\n",
       "      <td>29</td>\n",
       "      <td>2013</td>\n",
       "      <td>0</td>\n",
       "      <td>0</td>\n",
       "      <td>0</td>\n",
       "      <td>0</td>\n",
       "    </tr>\n",
       "    <tr>\n",
       "      <th>4</th>\n",
       "      <td>2</td>\n",
       "      <td>-122.306426</td>\n",
       "      <td>47.545739</td>\n",
       "      <td>2</td>\n",
       "      <td>2</td>\n",
       "      <td>0</td>\n",
       "      <td>0</td>\n",
       "      <td>2</td>\n",
       "      <td>11</td>\n",
       "      <td>0</td>\n",
       "      <td>...</td>\n",
       "      <td>0</td>\n",
       "      <td>2004-01-28 08:04:00</td>\n",
       "      <td>1</td>\n",
       "      <td>2</td>\n",
       "      <td>28</td>\n",
       "      <td>2004</td>\n",
       "      <td>0</td>\n",
       "      <td>0</td>\n",
       "      <td>0</td>\n",
       "      <td>0</td>\n",
       "    </tr>\n",
       "    <tr>\n",
       "      <th>...</th>\n",
       "      <td>...</td>\n",
       "      <td>...</td>\n",
       "      <td>...</td>\n",
       "      <td>...</td>\n",
       "      <td>...</td>\n",
       "      <td>...</td>\n",
       "      <td>...</td>\n",
       "      <td>...</td>\n",
       "      <td>...</td>\n",
       "      <td>...</td>\n",
       "      <td>...</td>\n",
       "      <td>...</td>\n",
       "      <td>...</td>\n",
       "      <td>...</td>\n",
       "      <td>...</td>\n",
       "      <td>...</td>\n",
       "      <td>...</td>\n",
       "      <td>...</td>\n",
       "      <td>...</td>\n",
       "      <td>...</td>\n",
       "      <td>...</td>\n",
       "    </tr>\n",
       "    <tr>\n",
       "      <th>167049</th>\n",
       "      <td>2</td>\n",
       "      <td>-122.290826</td>\n",
       "      <td>47.565408</td>\n",
       "      <td>2</td>\n",
       "      <td>3</td>\n",
       "      <td>0</td>\n",
       "      <td>0</td>\n",
       "      <td>2</td>\n",
       "      <td>11</td>\n",
       "      <td>0</td>\n",
       "      <td>...</td>\n",
       "      <td>0</td>\n",
       "      <td>2018-11-12 08:12:00</td>\n",
       "      <td>11</td>\n",
       "      <td>0</td>\n",
       "      <td>12</td>\n",
       "      <td>2018</td>\n",
       "      <td>0</td>\n",
       "      <td>0</td>\n",
       "      <td>0</td>\n",
       "      <td>0</td>\n",
       "    </tr>\n",
       "    <tr>\n",
       "      <th>167050</th>\n",
       "      <td>1</td>\n",
       "      <td>-122.344526</td>\n",
       "      <td>47.690924</td>\n",
       "      <td>1</td>\n",
       "      <td>2</td>\n",
       "      <td>0</td>\n",
       "      <td>0</td>\n",
       "      <td>2</td>\n",
       "      <td>14</td>\n",
       "      <td>1</td>\n",
       "      <td>...</td>\n",
       "      <td>0</td>\n",
       "      <td>2018-12-18 09:14:00</td>\n",
       "      <td>12</td>\n",
       "      <td>1</td>\n",
       "      <td>18</td>\n",
       "      <td>2018</td>\n",
       "      <td>0</td>\n",
       "      <td>0</td>\n",
       "      <td>0</td>\n",
       "      <td>0</td>\n",
       "    </tr>\n",
       "    <tr>\n",
       "      <th>167051</th>\n",
       "      <td>2</td>\n",
       "      <td>-122.306689</td>\n",
       "      <td>47.683047</td>\n",
       "      <td>2</td>\n",
       "      <td>3</td>\n",
       "      <td>0</td>\n",
       "      <td>0</td>\n",
       "      <td>2</td>\n",
       "      <td>11</td>\n",
       "      <td>0</td>\n",
       "      <td>...</td>\n",
       "      <td>0</td>\n",
       "      <td>2019-01-19 09:25:00</td>\n",
       "      <td>1</td>\n",
       "      <td>5</td>\n",
       "      <td>19</td>\n",
       "      <td>2019</td>\n",
       "      <td>0</td>\n",
       "      <td>0</td>\n",
       "      <td>0</td>\n",
       "      <td>0</td>\n",
       "    </tr>\n",
       "    <tr>\n",
       "      <th>167052</th>\n",
       "      <td>2</td>\n",
       "      <td>-122.355317</td>\n",
       "      <td>47.678734</td>\n",
       "      <td>2</td>\n",
       "      <td>2</td>\n",
       "      <td>0</td>\n",
       "      <td>1</td>\n",
       "      <td>1</td>\n",
       "      <td>51</td>\n",
       "      <td>0</td>\n",
       "      <td>...</td>\n",
       "      <td>0</td>\n",
       "      <td>2019-01-15 16:48:00</td>\n",
       "      <td>1</td>\n",
       "      <td>1</td>\n",
       "      <td>15</td>\n",
       "      <td>2019</td>\n",
       "      <td>0</td>\n",
       "      <td>0</td>\n",
       "      <td>0</td>\n",
       "      <td>0</td>\n",
       "    </tr>\n",
       "    <tr>\n",
       "      <th>167053</th>\n",
       "      <td>1</td>\n",
       "      <td>-122.289360</td>\n",
       "      <td>47.611017</td>\n",
       "      <td>1</td>\n",
       "      <td>2</td>\n",
       "      <td>0</td>\n",
       "      <td>0</td>\n",
       "      <td>2</td>\n",
       "      <td>14</td>\n",
       "      <td>0</td>\n",
       "      <td>...</td>\n",
       "      <td>0</td>\n",
       "      <td>2018-11-30 15:45:00</td>\n",
       "      <td>11</td>\n",
       "      <td>4</td>\n",
       "      <td>30</td>\n",
       "      <td>2018</td>\n",
       "      <td>0</td>\n",
       "      <td>0</td>\n",
       "      <td>0</td>\n",
       "      <td>0</td>\n",
       "    </tr>\n",
       "  </tbody>\n",
       "</table>\n",
       "<p>167054 rows × 97 columns</p>\n",
       "</div>"
      ],
      "text/plain": [
       "        SEVERITYCODE           X          Y  SEVERITYCODE.1  PERSONCOUNT  \\\n",
       "0                  2 -122.323148  47.703140               2            2   \n",
       "1                  1 -122.347294  47.647172               1            2   \n",
       "2                  1 -122.334540  47.607871               1            4   \n",
       "3                  1 -122.334803  47.604803               1            3   \n",
       "4                  2 -122.306426  47.545739               2            2   \n",
       "...              ...         ...        ...             ...          ...   \n",
       "167049             2 -122.290826  47.565408               2            3   \n",
       "167050             1 -122.344526  47.690924               1            2   \n",
       "167051             2 -122.306689  47.683047               2            3   \n",
       "167052             2 -122.355317  47.678734               2            2   \n",
       "167053             1 -122.289360  47.611017               1            2   \n",
       "\n",
       "        PEDCOUNT  PEDCYLCOUNT  VEHCOUNT  SDOT_COLCODE  INATTENTIONIND  ...  \\\n",
       "0              0            0         2            11               0  ...   \n",
       "1              0            0         2            16               0  ...   \n",
       "2              0            0         3            14               0  ...   \n",
       "3              0            0         3            11               0  ...   \n",
       "4              0            0         2            11               0  ...   \n",
       "...          ...          ...       ...           ...             ...  ...   \n",
       "167049         0            0         2            11               0  ...   \n",
       "167050         0            0         2            14               1  ...   \n",
       "167051         0            0         2            11               0  ...   \n",
       "167052         0            1         1            51               0  ...   \n",
       "167053         0            0         2            14               0  ...   \n",
       "\n",
       "        SDOT_COLCODE_69       INC_DATE_TIME MONTH DAY_OF_WEEK  DAY_OF_MONTH  \\\n",
       "0                     0 2013-03-27 14:54:00     3           2            27   \n",
       "1                     0 2006-12-20 18:55:00    12           2            20   \n",
       "2                     0 2004-11-18 10:20:00    11           3            18   \n",
       "3                     0 2013-03-29 09:26:00     3           4            29   \n",
       "4                     0 2004-01-28 08:04:00     1           2            28   \n",
       "...                 ...                 ...   ...         ...           ...   \n",
       "167049                0 2018-11-12 08:12:00    11           0            12   \n",
       "167050                0 2018-12-18 09:14:00    12           1            18   \n",
       "167051                0 2019-01-19 09:25:00     1           5            19   \n",
       "167052                0 2019-01-15 16:48:00     1           1            15   \n",
       "167053                0 2018-11-30 15:45:00    11           4            30   \n",
       "\n",
       "        YEAR  DAY_STRING MONTH_STRING  WEEKEND  HOUR_NEAREST  \n",
       "0       2013           0            0        0             0  \n",
       "1       2006           0            0        0             0  \n",
       "2       2004           0            0        0             0  \n",
       "3       2013           0            0        0             0  \n",
       "4       2004           0            0        0             0  \n",
       "...      ...         ...          ...      ...           ...  \n",
       "167049  2018           0            0        0             0  \n",
       "167050  2018           0            0        0             0  \n",
       "167051  2019           0            0        0             0  \n",
       "167052  2019           0            0        0             0  \n",
       "167053  2018           0            0        0             0  \n",
       "\n",
       "[167054 rows x 97 columns]"
      ]
     },
     "execution_count": 47,
     "metadata": {},
     "output_type": "execute_result"
    }
   ],
   "source": [
    "data"
   ]
  },
  {
   "cell_type": "code",
   "execution_count": 48,
   "metadata": {},
   "outputs": [],
   "source": [
    "#from imblearn.over_sampling import SMOTE\n",
    "from sklearn.utils import resample"
   ]
  },
  {
   "cell_type": "code",
   "execution_count": 49,
   "metadata": {},
   "outputs": [],
   "source": [
    "#Re-sample the dataset\n",
    "shuffled_data = data.sample(frac=1, random_state=4)"
   ]
  },
  {
   "cell_type": "code",
   "execution_count": 50,
   "metadata": {},
   "outputs": [
    {
     "name": "stdout",
     "output_type": "stream",
     "text": [
      "(109902, 93)\n"
     ]
    },
    {
     "data": {
      "text/html": [
       "<div>\n",
       "<style scoped>\n",
       "    .dataframe tbody tr th:only-of-type {\n",
       "        vertical-align: middle;\n",
       "    }\n",
       "\n",
       "    .dataframe tbody tr th {\n",
       "        vertical-align: top;\n",
       "    }\n",
       "\n",
       "    .dataframe thead th {\n",
       "        text-align: right;\n",
       "    }\n",
       "</style>\n",
       "<table border=\"1\" class=\"dataframe\">\n",
       "  <thead>\n",
       "    <tr style=\"text-align: right;\">\n",
       "      <th></th>\n",
       "      <th>SEVERITYCODE</th>\n",
       "      <th>X</th>\n",
       "      <th>Y</th>\n",
       "      <th>SEVERITYCODE.1</th>\n",
       "      <th>PERSONCOUNT</th>\n",
       "      <th>PEDCOUNT</th>\n",
       "      <th>PEDCYLCOUNT</th>\n",
       "      <th>VEHCOUNT</th>\n",
       "      <th>SDOT_COLCODE</th>\n",
       "      <th>INATTENTIONIND</th>\n",
       "      <th>...</th>\n",
       "      <th>SDOT_COLCODE_61</th>\n",
       "      <th>SDOT_COLCODE_64</th>\n",
       "      <th>SDOT_COLCODE_66</th>\n",
       "      <th>SDOT_COLCODE_68</th>\n",
       "      <th>SDOT_COLCODE_69</th>\n",
       "      <th>INC_DATE_TIME</th>\n",
       "      <th>MONTH</th>\n",
       "      <th>DAY_OF_WEEK</th>\n",
       "      <th>DAY_OF_MONTH</th>\n",
       "      <th>YEAR</th>\n",
       "    </tr>\n",
       "  </thead>\n",
       "  <tbody>\n",
       "    <tr>\n",
       "      <th>153459</th>\n",
       "      <td>1</td>\n",
       "      <td>-122.325969</td>\n",
       "      <td>47.590310</td>\n",
       "      <td>1</td>\n",
       "      <td>4</td>\n",
       "      <td>0</td>\n",
       "      <td>0</td>\n",
       "      <td>2</td>\n",
       "      <td>14</td>\n",
       "      <td>0</td>\n",
       "      <td>...</td>\n",
       "      <td>0</td>\n",
       "      <td>0</td>\n",
       "      <td>0</td>\n",
       "      <td>0</td>\n",
       "      <td>0</td>\n",
       "      <td>2019-04-03 08:00:00</td>\n",
       "      <td>4</td>\n",
       "      <td>2</td>\n",
       "      <td>3</td>\n",
       "      <td>2019</td>\n",
       "    </tr>\n",
       "    <tr>\n",
       "      <th>34256</th>\n",
       "      <td>1</td>\n",
       "      <td>-122.329643</td>\n",
       "      <td>47.601718</td>\n",
       "      <td>1</td>\n",
       "      <td>2</td>\n",
       "      <td>0</td>\n",
       "      <td>0</td>\n",
       "      <td>2</td>\n",
       "      <td>11</td>\n",
       "      <td>0</td>\n",
       "      <td>...</td>\n",
       "      <td>0</td>\n",
       "      <td>0</td>\n",
       "      <td>0</td>\n",
       "      <td>0</td>\n",
       "      <td>0</td>\n",
       "      <td>2006-07-20 16:50:00</td>\n",
       "      <td>7</td>\n",
       "      <td>3</td>\n",
       "      <td>20</td>\n",
       "      <td>2006</td>\n",
       "    </tr>\n",
       "    <tr>\n",
       "      <th>158060</th>\n",
       "      <td>1</td>\n",
       "      <td>-122.317887</td>\n",
       "      <td>47.710770</td>\n",
       "      <td>1</td>\n",
       "      <td>2</td>\n",
       "      <td>0</td>\n",
       "      <td>0</td>\n",
       "      <td>2</td>\n",
       "      <td>13</td>\n",
       "      <td>0</td>\n",
       "      <td>...</td>\n",
       "      <td>0</td>\n",
       "      <td>0</td>\n",
       "      <td>0</td>\n",
       "      <td>0</td>\n",
       "      <td>0</td>\n",
       "      <td>2018-08-27 17:24:00</td>\n",
       "      <td>8</td>\n",
       "      <td>0</td>\n",
       "      <td>27</td>\n",
       "      <td>2018</td>\n",
       "    </tr>\n",
       "    <tr>\n",
       "      <th>95994</th>\n",
       "      <td>1</td>\n",
       "      <td>-122.317430</td>\n",
       "      <td>47.612916</td>\n",
       "      <td>1</td>\n",
       "      <td>2</td>\n",
       "      <td>0</td>\n",
       "      <td>0</td>\n",
       "      <td>2</td>\n",
       "      <td>13</td>\n",
       "      <td>0</td>\n",
       "      <td>...</td>\n",
       "      <td>0</td>\n",
       "      <td>0</td>\n",
       "      <td>0</td>\n",
       "      <td>0</td>\n",
       "      <td>0</td>\n",
       "      <td>2012-01-12 22:35:00</td>\n",
       "      <td>1</td>\n",
       "      <td>3</td>\n",
       "      <td>12</td>\n",
       "      <td>2012</td>\n",
       "    </tr>\n",
       "    <tr>\n",
       "      <th>69561</th>\n",
       "      <td>1</td>\n",
       "      <td>-122.313926</td>\n",
       "      <td>47.599015</td>\n",
       "      <td>1</td>\n",
       "      <td>3</td>\n",
       "      <td>0</td>\n",
       "      <td>0</td>\n",
       "      <td>2</td>\n",
       "      <td>14</td>\n",
       "      <td>0</td>\n",
       "      <td>...</td>\n",
       "      <td>0</td>\n",
       "      <td>0</td>\n",
       "      <td>0</td>\n",
       "      <td>0</td>\n",
       "      <td>0</td>\n",
       "      <td>2009-06-29 14:46:00</td>\n",
       "      <td>6</td>\n",
       "      <td>0</td>\n",
       "      <td>29</td>\n",
       "      <td>2009</td>\n",
       "    </tr>\n",
       "  </tbody>\n",
       "</table>\n",
       "<p>5 rows × 93 columns</p>\n",
       "</div>"
      ],
      "text/plain": [
       "        SEVERITYCODE           X          Y  SEVERITYCODE.1  PERSONCOUNT  \\\n",
       "153459             1 -122.325969  47.590310               1            4   \n",
       "34256              1 -122.329643  47.601718               1            2   \n",
       "158060             1 -122.317887  47.710770               1            2   \n",
       "95994              1 -122.317430  47.612916               1            2   \n",
       "69561              1 -122.313926  47.599015               1            3   \n",
       "\n",
       "        PEDCOUNT  PEDCYLCOUNT  VEHCOUNT  SDOT_COLCODE  INATTENTIONIND  ...  \\\n",
       "153459         0            0         2            14               0  ...   \n",
       "34256          0            0         2            11               0  ...   \n",
       "158060         0            0         2            13               0  ...   \n",
       "95994          0            0         2            13               0  ...   \n",
       "69561          0            0         2            14               0  ...   \n",
       "\n",
       "        SDOT_COLCODE_61 SDOT_COLCODE_64 SDOT_COLCODE_66 SDOT_COLCODE_68  \\\n",
       "153459                0               0               0               0   \n",
       "34256                 0               0               0               0   \n",
       "158060                0               0               0               0   \n",
       "95994                 0               0               0               0   \n",
       "69561                 0               0               0               0   \n",
       "\n",
       "        SDOT_COLCODE_69       INC_DATE_TIME  MONTH DAY_OF_WEEK  DAY_OF_MONTH  \\\n",
       "153459                0 2019-04-03 08:00:00      4           2             3   \n",
       "34256                 0 2006-07-20 16:50:00      7           3            20   \n",
       "158060                0 2018-08-27 17:24:00      8           0            27   \n",
       "95994                 0 2012-01-12 22:35:00      1           3            12   \n",
       "69561                 0 2009-06-29 14:46:00      6           0            29   \n",
       "\n",
       "        YEAR  \n",
       "153459  2019  \n",
       "34256   2006  \n",
       "158060  2018  \n",
       "95994   2012  \n",
       "69561   2009  \n",
       "\n",
       "[5 rows x 93 columns]"
      ]
     },
     "execution_count": 50,
     "metadata": {},
     "output_type": "execute_result"
    }
   ],
   "source": [
    "#Create separate dataframes for each of the values of SEVERITYCODE\n",
    "code_1 = shuffled_data.loc[shuffled_data[\"SEVERITYCODE\"] == 1]\n",
    "code_2 = shuffled_data.loc[shuffled_data[\"SEVERITYCODE\"] == 2]\n",
    "\n",
    "#Down-sample severity codes 1, 2 to match number of accidents in code 3\n",
    "code_1_resample = shuffled_data.loc[shuffled_data[\"SEVERITYCODE\"] == 1].sample(n=len(code_2), random_state=42)\n",
    "code_2_resample = code_2\n",
    "\n",
    "#Merge the dataframes\n",
    "resampled_df = pd.concat([code_1_resample, code_2_resample])\n",
    "\n",
    "#Now find out which of the resampled columns have no variation left in them \n",
    "#(e.g. rare weather conditions which are all \"0\" due to one-hot encoding and \n",
    "#re-sampling)\n",
    "badcols = resampled_df.columns[resampled_df.nunique() <= 1]\n",
    "\n",
    "#Remove these from DF\n",
    "for badcol in badcols:\n",
    "    if badcol in resampled_df:\n",
    "        del resampled_df[badcol]\n",
    "        \n",
    "print(resampled_df.shape)\n",
    "\n",
    "resampled_df.head(5)"
   ]
  },
  {
   "cell_type": "code",
   "execution_count": 51,
   "metadata": {},
   "outputs": [
    {
     "name": "stdout",
     "output_type": "stream",
     "text": [
      "SEVERITYCODE\n",
      "X\n",
      "Y\n",
      "SEVERITYCODE.1\n",
      "PERSONCOUNT\n",
      "PEDCOUNT\n",
      "PEDCYLCOUNT\n",
      "VEHCOUNT\n",
      "SDOT_COLCODE\n",
      "INATTENTIONIND\n",
      "UNDERINFL\n",
      "WEATHER\n",
      "ROADCOND\n",
      "LIGHTCOND\n",
      "PEDROWNOTGRNT\n",
      "SPEEDING\n",
      "ST_COLCODE\n",
      "ST_COLDESC\n",
      "SEGLANEKEY\n",
      "CROSSWALKKEY\n",
      "HITPARKEDCAR\n",
      "Blowing Sand/Dirt\n",
      "Clear\n",
      "Fog/Smog/Smoke\n",
      "Other weather\n",
      "Overcast\n",
      "Partly Cloudy\n",
      "Raining\n",
      "Severe Crosswind\n",
      "Sleet/Hail/Freezing Rain\n",
      "Snowing\n",
      "Dark - No Street Lights\n",
      "Dark - Street Lights Off\n",
      "Dark - Street Lights On\n",
      "Dark - Unknown Lighting\n",
      "Dawn\n",
      "Daylight\n",
      "Dusk\n",
      "Other light\n",
      "Dry\n",
      "Ice\n",
      "Oil\n",
      "Other roadcond\n",
      "Sand/Mud/Dirt\n",
      "Snow/Slush\n",
      "Standing Water\n",
      "Wet\n",
      "Block\n",
      "Intersection\n",
      "SDOT_COLCODE_0\n",
      "SDOT_COLCODE_11\n",
      "SDOT_COLCODE_12\n",
      "SDOT_COLCODE_13\n",
      "SDOT_COLCODE_14\n",
      "SDOT_COLCODE_15\n",
      "SDOT_COLCODE_16\n",
      "SDOT_COLCODE_18\n",
      "SDOT_COLCODE_21\n",
      "SDOT_COLCODE_22\n",
      "SDOT_COLCODE_23\n",
      "SDOT_COLCODE_24\n",
      "SDOT_COLCODE_25\n",
      "SDOT_COLCODE_26\n",
      "SDOT_COLCODE_27\n",
      "SDOT_COLCODE_28\n",
      "SDOT_COLCODE_29\n",
      "SDOT_COLCODE_31\n",
      "SDOT_COLCODE_32\n",
      "SDOT_COLCODE_33\n",
      "SDOT_COLCODE_34\n",
      "SDOT_COLCODE_35\n",
      "SDOT_COLCODE_36\n",
      "SDOT_COLCODE_44\n",
      "SDOT_COLCODE_46\n",
      "SDOT_COLCODE_47\n",
      "SDOT_COLCODE_48\n",
      "SDOT_COLCODE_51\n",
      "SDOT_COLCODE_52\n",
      "SDOT_COLCODE_53\n",
      "SDOT_COLCODE_54\n",
      "SDOT_COLCODE_55\n",
      "SDOT_COLCODE_56\n",
      "SDOT_COLCODE_58\n",
      "SDOT_COLCODE_61\n",
      "SDOT_COLCODE_64\n",
      "SDOT_COLCODE_66\n",
      "SDOT_COLCODE_68\n",
      "SDOT_COLCODE_69\n",
      "INC_DATE_TIME\n",
      "MONTH\n",
      "DAY_OF_WEEK\n",
      "DAY_OF_MONTH\n",
      "YEAR\n"
     ]
    }
   ],
   "source": [
    "for column in resampled_df.columns:\n",
    "    print(column)"
   ]
  },
  {
   "cell_type": "code",
   "execution_count": 96,
   "metadata": {},
   "outputs": [
    {
     "data": {
      "text/plain": [
       "([<matplotlib.axis.XTick at 0x2766f5a0128>,\n",
       "  <matplotlib.axis.XTick at 0x2766f869a20>],\n",
       " <a list of 2 Text xticklabel objects>)"
      ]
     },
     "execution_count": 96,
     "metadata": {},
     "output_type": "execute_result"
    },
    {
     "data": {
      "image/png": "[encoded data removed]",
      "text/plain": [
       "<Figure size 1152x576 with 2 Axes>"
      ]
     },
     "metadata": {},
     "output_type": "display_data"
    }
   ],
   "source": [
    "plt.rc('xtick',labelsize=12)\n",
    "plt.rc('ytick',labelsize=12)\n",
    "\n",
    "#Accident outcomes before/after\n",
    "plt.rcParams[\"figure.figsize\"] = (16,8)\n",
    "\n",
    "#1 - Accident severities (original)\n",
    "plt.subplot(1,2,1)\n",
    "freqs = Counter(data_df[\"SEVERITYDESC\"])\n",
    "xvals = range(len(freqs.values()))\n",
    "plt.title('(a)')\n",
    "plt.ylabel(\"Number of accidents\", size=18)\n",
    "plt.grid(b=None)\n",
    "plt.bar(xvals, freqs.values() , color='#3777AD')\n",
    "plt.xticks(xvals, freqs.keys(), rotation='vertical')\n",
    "\n",
    "#2 - Accident severities (normalised)\n",
    "plt.subplot(1,2,2)\n",
    "freqs = Counter(resampled_df[\"SEVERITYCODE\"])\n",
    "xvals = range(len(freqs.values()))\n",
    "labels = ['Property Damage Only Collision', 'Injury Collision', 'Serious Injury Collision', 'Fatality Collision']\n",
    "plt.title('(b)')\n",
    "plt.ylabel(\"Number of accidents\", size=18)\n",
    "plt.grid(b=None)\n",
    "plt.bar(xvals, freqs.values() , color='#3777AD')\n",
    "plt.xticks(xvals, labels, rotation='vertical')"
   ]
  },
  {
   "cell_type": "code",
   "execution_count": 97,
   "metadata": {},
   "outputs": [
    {
     "data": {
      "image/png": "[encoded data removed]",
      "text/plain": [
       "<Figure size 1152x576 with 2 Axes>"
      ]
     },
     "metadata": {},
     "output_type": "display_data"
    }
   ],
   "source": [
    "#People involved before/after\n",
    "plt.rcParams[\"figure.figsize\"] = (16,8)\n",
    "\n",
    "#1 - People involved (original)\n",
    "plt.subplot(1,2,1)\n",
    "freqs = Counter(data_df[\"PERSONCOUNT\"])\n",
    "xvals = range(len(freqs.values()))\n",
    "plt.title('(a)')\n",
    "plt.xlabel(\"Number of people involved\", size=18)\n",
    "plt.ylabel(\"log(Number of accidents)\", size=18)\n",
    "plt.grid(b=None)\n",
    "plt.hist(data_df[\"PERSONCOUNT\"], align='left', color='#3777AD')\n",
    "plt.yscale('log')\n",
    "\n",
    "#2 - People involved (re-sampled)\n",
    "plt.subplot(1,2,2)\n",
    "freqs = Counter(resampled_df[\"PERSONCOUNT\"])\n",
    "xvals = range(len(freqs.values()))\n",
    "plt.title('(b)')\n",
    "plt.xlabel(\"Number of people involved\", size=18)\n",
    "plt.ylabel(\"log(Number of accidents)\", size=18)\n",
    "plt.grid(b=None)\n",
    "plt.hist(resampled_df[\"PERSONCOUNT\"], align='left', color='#3777AD')\n",
    "plt.yscale('log')"
   ]
  },
  {
   "cell_type": "code",
   "execution_count": 98,
   "metadata": {},
   "outputs": [
    {
     "data": {
      "text/plain": [
       "([<matplotlib.axis.XTick at 0x27669a63e48>,\n",
       "  <matplotlib.axis.XTick at 0x2765fb5c390>,\n",
       "  <matplotlib.axis.XTick at 0x2766056d208>,\n",
       "  <matplotlib.axis.XTick at 0x27669a97b00>,\n",
       "  <matplotlib.axis.XTick at 0x27669a97da0>,\n",
       "  <matplotlib.axis.XTick at 0x2766048d748>,\n",
       "  <matplotlib.axis.XTick at 0x2766d125cc0>,\n",
       "  <matplotlib.axis.XTick at 0x27669b47d30>,\n",
       "  <matplotlib.axis.XTick at 0x27669b47278>,\n",
       "  <matplotlib.axis.XTick at 0x27669b477b8>,\n",
       "  <matplotlib.axis.XTick at 0x2765fcc3438>],\n",
       " <a list of 11 Text xticklabel objects>)"
      ]
     },
     "execution_count": 98,
     "metadata": {},
     "output_type": "execute_result"
    },
    {
     "data": {
      "image/png": "[encoded data removed]",
      "text/plain": [
       "<Figure size 1152x576 with 2 Axes>"
      ]
     },
     "metadata": {},
     "output_type": "display_data"
    }
   ],
   "source": [
    "#Weather before/after\n",
    "plt.rcParams[\"figure.figsize\"] = (16,8)\n",
    "\n",
    "#1 - Weather (original)\n",
    "plt.subplot(1,2,1)\n",
    "freqs = Counter(data_df[\"WEATHER\"])\n",
    "xvals = range(len(freqs.values()))\n",
    "plt.title('(a)')\n",
    "plt.ylabel(\"Number of accidents\", size=18)\n",
    "plt.grid(b=None)\n",
    "plt.bar(xvals, freqs.values() , color='#3777AD')\n",
    "plt.xticks(xvals, freqs.keys(), rotation='vertical')\n",
    "\n",
    "#2 - Weather (normalised)\n",
    "plt.subplot(1,2,2)\n",
    "freqs = Counter(resampled_df[\"WEATHER\"])\n",
    "xvals = range(len(freqs.values()))\n",
    "plt.title('(b)')\n",
    "plt.ylabel(\"Number of accidents\", size=18)\n",
    "plt.grid(b=None)\n",
    "plt.bar(xvals, freqs.values() , color='#3777AD')\n",
    "plt.xticks(xvals, freqs.keys(), rotation='vertical')\n"
   ]
  },
  {
   "cell_type": "code",
   "execution_count": 99,
   "metadata": {},
   "outputs": [
    {
     "data": {
      "text/plain": [
       "([<matplotlib.axis.XTick at 0x2766d032b00>,\n",
       "  <matplotlib.axis.XTick at 0x2766d032438>,\n",
       "  <matplotlib.axis.XTick at 0x2766d0322e8>,\n",
       "  <matplotlib.axis.XTick at 0x2765fb92898>,\n",
       "  <matplotlib.axis.XTick at 0x2765fb92d68>,\n",
       "  <matplotlib.axis.XTick at 0x2765fb8a320>,\n",
       "  <matplotlib.axis.XTick at 0x2765fb8a898>,\n",
       "  <matplotlib.axis.XTick at 0x2765fb8ae10>,\n",
       "  <matplotlib.axis.XTick at 0x2765fbaf3c8>],\n",
       " <a list of 9 Text xticklabel objects>)"
      ]
     },
     "execution_count": 99,
     "metadata": {},
     "output_type": "execute_result"
    },
    {
     "data": {
      "image/png": "[encoded data removed]",
      "text/plain": [
       "<Figure size 1152x576 with 2 Axes>"
      ]
     },
     "metadata": {},
     "output_type": "display_data"
    }
   ],
   "source": [
    "#Roadcond before/after\n",
    "plt.rcParams[\"figure.figsize\"] = (16,8)\n",
    "\n",
    "#1 - Road Conditions (original)\n",
    "plt.subplot(1,2,1)\n",
    "freqs = Counter(data_df[\"ROADCOND\"])\n",
    "xvals = range(len(freqs.values()))\n",
    "plt.title('(a)')\n",
    "plt.ylabel(\"Number of accidents\", size=18)\n",
    "plt.grid(b=None)\n",
    "plt.bar(xvals, freqs.values() , color='#3777AD')\n",
    "plt.xticks(xvals, freqs.keys(), rotation='vertical')\n",
    "\n",
    "#2 - Road Conditions (normalised)\n",
    "plt.subplot(1,2,2)\n",
    "freqs = Counter(resampled_df[\"ROADCOND\"])\n",
    "xvals = range(len(freqs.values()))\n",
    "plt.title('(b)')\n",
    "plt.ylabel(\"Number of accidents\", size=18)\n",
    "plt.grid(b=None)\n",
    "plt.bar(xvals, freqs.values() , color='#3777AD')\n",
    "plt.xticks(xvals, freqs.keys(), rotation='vertical')"
   ]
  },
  {
   "cell_type": "code",
   "execution_count": 100,
   "metadata": {},
   "outputs": [
    {
     "data": {
      "text/plain": [
       "([<matplotlib.axis.XTick at 0x2766d34a278>,\n",
       "  <matplotlib.axis.XTick at 0x2765fc2fb70>,\n",
       "  <matplotlib.axis.XTick at 0x2765fc2f898>,\n",
       "  <matplotlib.axis.XTick at 0x2766d1450b8>,\n",
       "  <matplotlib.axis.XTick at 0x2766d3b2ac8>,\n",
       "  <matplotlib.axis.XTick at 0x2766d3b24e0>,\n",
       "  <matplotlib.axis.XTick at 0x2766d3b2b70>,\n",
       "  <matplotlib.axis.XTick at 0x2766d3bc588>,\n",
       "  <matplotlib.axis.XTick at 0x2766d3bcb00>],\n",
       " <a list of 9 Text xticklabel objects>)"
      ]
     },
     "execution_count": 100,
     "metadata": {},
     "output_type": "execute_result"
    },
    {
     "data": {
      "image/png": "[encoded data removed]",
      "text/plain": [
       "<Figure size 1152x576 with 2 Axes>"
      ]
     },
     "metadata": {},
     "output_type": "display_data"
    }
   ],
   "source": [
    "#Light before/after\n",
    "plt.rcParams[\"figure.figsize\"] = (16,8)\n",
    "\n",
    "#1 - Light Conditions (original)\n",
    "plt.subplot(1,2,1)\n",
    "freqs = Counter(data_df[\"LIGHTCOND\"])\n",
    "xvals = range(len(freqs.values()))\n",
    "plt.title('(a)')\n",
    "plt.ylabel(\"Number of accidents\", size=18)\n",
    "plt.grid(b=None)\n",
    "plt.bar(xvals, freqs.values() , color='#3777AD')\n",
    "plt.xticks(xvals, freqs.keys(), rotation='vertical')\n",
    "\n",
    "#2 - Light Conditions (normalised)\n",
    "plt.subplot(1,2,2)\n",
    "freqs = Counter(resampled_df[\"LIGHTCOND\"])\n",
    "xvals = range(len(freqs.values()))\n",
    "plt.title('(b)')\n",
    "plt.ylabel(\"Number of accidents\", size=18)\n",
    "plt.grid(b=None)\n",
    "plt.bar(xvals, freqs.values() , color='#3777AD')\n",
    "plt.xticks(xvals, freqs.keys(), rotation='vertical')"
   ]
  },
  {
   "cell_type": "code",
   "execution_count": 101,
   "metadata": {},
   "outputs": [
    {
     "data": {
      "text/plain": [
       "([<matplotlib.axis.XTick at 0x2766f506a58>,\n",
       "  <matplotlib.axis.XTick at 0x2766f506390>,\n",
       "  <matplotlib.axis.XTick at 0x2766f506240>,\n",
       "  <matplotlib.axis.XTick at 0x2766f55d2e8>,\n",
       "  <matplotlib.axis.XTick at 0x2766f55d7b8>,\n",
       "  <matplotlib.axis.XTick at 0x2766f55dd30>,\n",
       "  <matplotlib.axis.XTick at 0x2766f55d898>],\n",
       " <a list of 7 Text xticklabel objects>)"
      ]
     },
     "execution_count": 101,
     "metadata": {},
     "output_type": "execute_result"
    },
    {
     "data": {
      "image/png": "[encoded data removed]",
      "text/plain": [
       "<Figure size 1152x576 with 2 Axes>"
      ]
     },
     "metadata": {},
     "output_type": "display_data"
    }
   ],
   "source": [
    "#Day of week (Before/After)\n",
    "plt.rcParams[\"figure.figsize\"] = (16,8)\n",
    "\n",
    "#1 - Day of week (before)\n",
    "plt.subplot(1,2,1)\n",
    "freqs = Counter(data_df[\"DAY_OF_WEEK\"])\n",
    "xvals = range(len(freqs.values()))\n",
    "#Order the days\n",
    "ordered = dict(sorted(freqs.items()))\n",
    "daynames = ['Mon','Tue','Wed','Thu','Fri','Sat','Sun']\n",
    "plt.title('(a)')\n",
    "#plt.xlabel(\"Day of week\", size=18)\n",
    "plt.ylabel(\"Number of accidents\", size=18)\n",
    "plt.grid(b=None)\n",
    "plt.bar(xvals, ordered.values() , color='#3777AD')\n",
    "plt.xticks(xvals, daynames, rotation='vertical')\n",
    "\n",
    "#2 - Day of week (after)\n",
    "plt.subplot(1,2,2)\n",
    "freqs = Counter(resampled_df[\"DAY_OF_WEEK\"])\n",
    "xvals = range(len(freqs.values()))\n",
    "#Order the days\n",
    "ordered = dict(sorted(freqs.items()))\n",
    "daynames = ['Mon','Tue','Wed','Thu','Fri','Sat','Sun']\n",
    "plt.title('(b)')\n",
    "#plt.xlabel(\"Day of week\", size=18)\n",
    "plt.ylabel(\"Number of accidents\", size=18)\n",
    "plt.grid(b=None)\n",
    "plt.bar(xvals, ordered.values() , color='#3777AD')\n",
    "plt.xticks(xvals, daynames, rotation='vertical')"
   ]
  },
  {
   "cell_type": "code",
   "execution_count": 102,
   "metadata": {},
   "outputs": [
    {
     "data": {
      "image/png": "[encoded data removed]",
      "text/plain": [
       "<Figure size 1152x576 with 2 Axes>"
      ]
     },
     "metadata": {},
     "output_type": "display_data"
    }
   ],
   "source": [
    "#Month of year (Before/After)\n",
    "plt.rcParams[\"figure.figsize\"] = (16,8)\n",
    "\n",
    "#1 - Month of year in which accident happens\n",
    "plt.subplot(1,2,1)\n",
    "freqs = Counter(data_df[\"MONTH\"])\n",
    "xvals = range(len(freqs.values()))\n",
    "#Order the months\n",
    "ordered = dict(sorted(freqs.items()))\n",
    "monthnames = ['Jan','Feb','Mar','Apr','May', 'Jun','Jul','Aug','Sep','Oct','Nov','Dec']\n",
    "plt.title('(a)')\n",
    "#plt.xlabel(\"Month\")\n",
    "plt.ylabel(\"Number of accidents\", size=18)\n",
    "plt.grid(b=None)\n",
    "plt.bar(xvals, ordered.values() , color='#3777AD')\n",
    "plt.xticks(xvals, monthnames, rotation='vertical')\n",
    "plt.subplots_adjust(hspace=0.6)\n",
    "\n",
    "#1 - Month of year in which accident happens\n",
    "plt.subplot(1,2,2)\n",
    "freqs = Counter(resampled_df[\"MONTH\"])\n",
    "xvals = range(len(freqs.values()))\n",
    "#Order the months\n",
    "ordered = dict(sorted(freqs.items()))\n",
    "monthnames = ['Jan','Feb','Mar','Apr','May', 'Jun','Jul','Aug','Sep','Oct','Nov','Dec']\n",
    "plt.title('(b)')\n",
    "#plt.xlabel(\"Month\")\n",
    "plt.ylabel(\"Number of accidents\", size=18)\n",
    "plt.grid(b=None)\n",
    "plt.bar(xvals, ordered.values() , color='#3777AD')\n",
    "plt.xticks(xvals, monthnames, rotation='vertical')\n",
    "plt.subplots_adjust(hspace=0.6)"
   ]
  },
  {
   "cell_type": "code",
   "execution_count": 103,
   "metadata": {},
   "outputs": [
    {
     "data": {
      "text/html": [
       "<div>\n",
       "<style scoped>\n",
       "    .dataframe tbody tr th:only-of-type {\n",
       "        vertical-align: middle;\n",
       "    }\n",
       "\n",
       "    .dataframe tbody tr th {\n",
       "        vertical-align: top;\n",
       "    }\n",
       "\n",
       "    .dataframe thead th {\n",
       "        text-align: right;\n",
       "    }\n",
       "</style>\n",
       "<table border=\"1\" class=\"dataframe\">\n",
       "  <thead>\n",
       "    <tr style=\"text-align: right;\">\n",
       "      <th></th>\n",
       "      <th>SEVERITYCODE</th>\n",
       "      <th>X</th>\n",
       "      <th>Y</th>\n",
       "      <th>SEVERITYCODE.1</th>\n",
       "      <th>PERSONCOUNT</th>\n",
       "      <th>PEDCOUNT</th>\n",
       "      <th>PEDCYLCOUNT</th>\n",
       "      <th>VEHCOUNT</th>\n",
       "      <th>SDOT_COLCODE</th>\n",
       "      <th>INATTENTIONIND</th>\n",
       "      <th>...</th>\n",
       "      <th>SDOT_COLCODE_68</th>\n",
       "      <th>SDOT_COLCODE_69</th>\n",
       "      <th>INC_DATE_TIME</th>\n",
       "      <th>MONTH</th>\n",
       "      <th>DAY_OF_WEEK</th>\n",
       "      <th>DAY_OF_MONTH</th>\n",
       "      <th>YEAR</th>\n",
       "      <th>WEATHER_CAT</th>\n",
       "      <th>ROADCOND_CAT</th>\n",
       "      <th>LIGHTCOND_CAT</th>\n",
       "    </tr>\n",
       "  </thead>\n",
       "  <tbody>\n",
       "    <tr>\n",
       "      <th>153459</th>\n",
       "      <td>1</td>\n",
       "      <td>-122.325969</td>\n",
       "      <td>47.590310</td>\n",
       "      <td>1</td>\n",
       "      <td>4</td>\n",
       "      <td>0</td>\n",
       "      <td>0</td>\n",
       "      <td>2</td>\n",
       "      <td>14</td>\n",
       "      <td>0</td>\n",
       "      <td>...</td>\n",
       "      <td>0</td>\n",
       "      <td>0</td>\n",
       "      <td>2019-04-03 08:00:00</td>\n",
       "      <td>4</td>\n",
       "      <td>2</td>\n",
       "      <td>3</td>\n",
       "      <td>2019</td>\n",
       "      <td>1</td>\n",
       "      <td>0</td>\n",
       "      <td>5</td>\n",
       "    </tr>\n",
       "    <tr>\n",
       "      <th>34256</th>\n",
       "      <td>1</td>\n",
       "      <td>-122.329643</td>\n",
       "      <td>47.601718</td>\n",
       "      <td>1</td>\n",
       "      <td>2</td>\n",
       "      <td>0</td>\n",
       "      <td>0</td>\n",
       "      <td>2</td>\n",
       "      <td>11</td>\n",
       "      <td>0</td>\n",
       "      <td>...</td>\n",
       "      <td>0</td>\n",
       "      <td>0</td>\n",
       "      <td>2006-07-20 16:50:00</td>\n",
       "      <td>7</td>\n",
       "      <td>3</td>\n",
       "      <td>20</td>\n",
       "      <td>2006</td>\n",
       "      <td>1</td>\n",
       "      <td>0</td>\n",
       "      <td>5</td>\n",
       "    </tr>\n",
       "    <tr>\n",
       "      <th>158060</th>\n",
       "      <td>1</td>\n",
       "      <td>-122.317887</td>\n",
       "      <td>47.710770</td>\n",
       "      <td>1</td>\n",
       "      <td>2</td>\n",
       "      <td>0</td>\n",
       "      <td>0</td>\n",
       "      <td>2</td>\n",
       "      <td>13</td>\n",
       "      <td>0</td>\n",
       "      <td>...</td>\n",
       "      <td>0</td>\n",
       "      <td>0</td>\n",
       "      <td>2018-08-27 17:24:00</td>\n",
       "      <td>8</td>\n",
       "      <td>0</td>\n",
       "      <td>27</td>\n",
       "      <td>2018</td>\n",
       "      <td>2</td>\n",
       "      <td>0</td>\n",
       "      <td>5</td>\n",
       "    </tr>\n",
       "    <tr>\n",
       "      <th>95994</th>\n",
       "      <td>1</td>\n",
       "      <td>-122.317430</td>\n",
       "      <td>47.612916</td>\n",
       "      <td>1</td>\n",
       "      <td>2</td>\n",
       "      <td>0</td>\n",
       "      <td>0</td>\n",
       "      <td>2</td>\n",
       "      <td>13</td>\n",
       "      <td>0</td>\n",
       "      <td>...</td>\n",
       "      <td>0</td>\n",
       "      <td>0</td>\n",
       "      <td>2012-01-12 22:35:00</td>\n",
       "      <td>1</td>\n",
       "      <td>3</td>\n",
       "      <td>12</td>\n",
       "      <td>2012</td>\n",
       "      <td>1</td>\n",
       "      <td>0</td>\n",
       "      <td>2</td>\n",
       "    </tr>\n",
       "    <tr>\n",
       "      <th>69561</th>\n",
       "      <td>1</td>\n",
       "      <td>-122.313926</td>\n",
       "      <td>47.599015</td>\n",
       "      <td>1</td>\n",
       "      <td>3</td>\n",
       "      <td>0</td>\n",
       "      <td>0</td>\n",
       "      <td>2</td>\n",
       "      <td>14</td>\n",
       "      <td>0</td>\n",
       "      <td>...</td>\n",
       "      <td>0</td>\n",
       "      <td>0</td>\n",
       "      <td>2009-06-29 14:46:00</td>\n",
       "      <td>6</td>\n",
       "      <td>0</td>\n",
       "      <td>29</td>\n",
       "      <td>2009</td>\n",
       "      <td>1</td>\n",
       "      <td>0</td>\n",
       "      <td>5</td>\n",
       "    </tr>\n",
       "  </tbody>\n",
       "</table>\n",
       "<p>5 rows × 96 columns</p>\n",
       "</div>"
      ],
      "text/plain": [
       "        SEVERITYCODE           X          Y  SEVERITYCODE.1  PERSONCOUNT  \\\n",
       "153459             1 -122.325969  47.590310               1            4   \n",
       "34256              1 -122.329643  47.601718               1            2   \n",
       "158060             1 -122.317887  47.710770               1            2   \n",
       "95994              1 -122.317430  47.612916               1            2   \n",
       "69561              1 -122.313926  47.599015               1            3   \n",
       "\n",
       "        PEDCOUNT  PEDCYLCOUNT  VEHCOUNT  SDOT_COLCODE  INATTENTIONIND  ...  \\\n",
       "153459         0            0         2            14               0  ...   \n",
       "34256          0            0         2            11               0  ...   \n",
       "158060         0            0         2            13               0  ...   \n",
       "95994          0            0         2            13               0  ...   \n",
       "69561          0            0         2            14               0  ...   \n",
       "\n",
       "        SDOT_COLCODE_68 SDOT_COLCODE_69       INC_DATE_TIME MONTH  \\\n",
       "153459                0               0 2019-04-03 08:00:00     4   \n",
       "34256                 0               0 2006-07-20 16:50:00     7   \n",
       "158060                0               0 2018-08-27 17:24:00     8   \n",
       "95994                 0               0 2012-01-12 22:35:00     1   \n",
       "69561                 0               0 2009-06-29 14:46:00     6   \n",
       "\n",
       "        DAY_OF_WEEK  DAY_OF_MONTH  YEAR WEATHER_CAT  ROADCOND_CAT  \\\n",
       "153459            2             3  2019           1             0   \n",
       "34256             3            20  2006           1             0   \n",
       "158060            0            27  2018           2             0   \n",
       "95994             3            12  2012           1             0   \n",
       "69561             0            29  2009           1             0   \n",
       "\n",
       "        LIGHTCOND_CAT  \n",
       "153459              5  \n",
       "34256               5  \n",
       "158060              5  \n",
       "95994               2  \n",
       "69561               5  \n",
       "\n",
       "[5 rows x 96 columns]"
      ]
     },
     "execution_count": 103,
     "metadata": {},
     "output_type": "execute_result"
    }
   ],
   "source": [
    "resampled_df.head(5)"
   ]
  },
  {
   "cell_type": "code",
   "execution_count": 60,
   "metadata": {},
   "outputs": [
    {
     "data": {
      "text/plain": [
       "(109902, 93)"
      ]
     },
     "execution_count": 60,
     "metadata": {},
     "output_type": "execute_result"
    }
   ],
   "source": [
    "resampled_df.shape"
   ]
  },
  {
   "cell_type": "code",
   "execution_count": 61,
   "metadata": {},
   "outputs": [
    {
     "data": {
      "text/plain": [
       "SEVERITYCODE               int64\n",
       "X                        float64\n",
       "Y                        float64\n",
       "SEVERITYCODE.1             int64\n",
       "PERSONCOUNT                int64\n",
       "                       ...      \n",
       "INC_DATE_TIME     datetime64[ns]\n",
       "MONTH                      int64\n",
       "DAY_OF_WEEK                int64\n",
       "DAY_OF_MONTH               int64\n",
       "YEAR                       int64\n",
       "Length: 93, dtype: object"
      ]
     },
     "execution_count": 61,
     "metadata": {},
     "output_type": "execute_result"
    }
   ],
   "source": [
    "resampled_df.dtypes"
   ]
  },
  {
   "cell_type": "code",
   "execution_count": 62,
   "metadata": {},
   "outputs": [
    {
     "name": "stdout",
     "output_type": "stream",
     "text": [
      "Column names:\n",
      "SEVERITYCODE\n",
      "X\n",
      "Y\n",
      "SEVERITYCODE.1\n",
      "PERSONCOUNT\n",
      "PEDCOUNT\n",
      "PEDCYLCOUNT\n",
      "VEHCOUNT\n",
      "SDOT_COLCODE\n",
      "INATTENTIONIND\n",
      "UNDERINFL\n",
      "WEATHER\n",
      "ROADCOND\n",
      "LIGHTCOND\n",
      "PEDROWNOTGRNT\n",
      "SPEEDING\n",
      "ST_COLCODE\n",
      "ST_COLDESC\n",
      "SEGLANEKEY\n",
      "CROSSWALKKEY\n",
      "HITPARKEDCAR\n",
      "Blowing Sand/Dirt\n",
      "Clear\n",
      "Fog/Smog/Smoke\n",
      "Other weather\n",
      "Overcast\n",
      "Partly Cloudy\n",
      "Raining\n",
      "Severe Crosswind\n",
      "Sleet/Hail/Freezing Rain\n",
      "Snowing\n",
      "Dark - No Street Lights\n",
      "Dark - Street Lights Off\n",
      "Dark - Street Lights On\n",
      "Dark - Unknown Lighting\n",
      "Dawn\n",
      "Daylight\n",
      "Dusk\n",
      "Other light\n",
      "Dry\n",
      "Ice\n",
      "Oil\n",
      "Other roadcond\n",
      "Sand/Mud/Dirt\n",
      "Snow/Slush\n",
      "Standing Water\n",
      "Wet\n",
      "Block\n",
      "Intersection\n",
      "SDOT_COLCODE_0\n",
      "SDOT_COLCODE_11\n",
      "SDOT_COLCODE_12\n",
      "SDOT_COLCODE_13\n",
      "SDOT_COLCODE_14\n",
      "SDOT_COLCODE_15\n",
      "SDOT_COLCODE_16\n",
      "SDOT_COLCODE_18\n",
      "SDOT_COLCODE_21\n",
      "SDOT_COLCODE_22\n",
      "SDOT_COLCODE_23\n",
      "SDOT_COLCODE_24\n",
      "SDOT_COLCODE_25\n",
      "SDOT_COLCODE_26\n",
      "SDOT_COLCODE_27\n",
      "SDOT_COLCODE_28\n",
      "SDOT_COLCODE_29\n",
      "SDOT_COLCODE_31\n",
      "SDOT_COLCODE_32\n",
      "SDOT_COLCODE_33\n",
      "SDOT_COLCODE_34\n",
      "SDOT_COLCODE_35\n",
      "SDOT_COLCODE_36\n",
      "SDOT_COLCODE_44\n",
      "SDOT_COLCODE_46\n",
      "SDOT_COLCODE_47\n",
      "SDOT_COLCODE_48\n",
      "SDOT_COLCODE_51\n",
      "SDOT_COLCODE_52\n",
      "SDOT_COLCODE_53\n",
      "SDOT_COLCODE_54\n",
      "SDOT_COLCODE_55\n",
      "SDOT_COLCODE_56\n",
      "SDOT_COLCODE_58\n",
      "SDOT_COLCODE_61\n",
      "SDOT_COLCODE_64\n",
      "SDOT_COLCODE_66\n",
      "SDOT_COLCODE_68\n",
      "SDOT_COLCODE_69\n",
      "INC_DATE_TIME\n",
      "MONTH\n",
      "DAY_OF_WEEK\n",
      "DAY_OF_MONTH\n",
      "YEAR\n"
     ]
    }
   ],
   "source": [
    "#List the features that are remaining in resample_df\n",
    "print(\"Column names:\")\n",
    "for (columnName, columnData) in resampled_df.iteritems():\n",
    "    print(columnName)"
   ]
  },
  {
   "cell_type": "code",
   "execution_count": 63,
   "metadata": {},
   "outputs": [
    {
     "data": {
      "text/html": [
       "<div>\n",
       "<style scoped>\n",
       "    .dataframe tbody tr th:only-of-type {\n",
       "        vertical-align: middle;\n",
       "    }\n",
       "\n",
       "    .dataframe tbody tr th {\n",
       "        vertical-align: top;\n",
       "    }\n",
       "\n",
       "    .dataframe thead th {\n",
       "        text-align: right;\n",
       "    }\n",
       "</style>\n",
       "<table border=\"1\" class=\"dataframe\">\n",
       "  <thead>\n",
       "    <tr style=\"text-align: right;\">\n",
       "      <th></th>\n",
       "      <th>SEVERITYCODE</th>\n",
       "      <th>X</th>\n",
       "      <th>Y</th>\n",
       "      <th>SEVERITYCODE.1</th>\n",
       "      <th>PERSONCOUNT</th>\n",
       "      <th>PEDCOUNT</th>\n",
       "      <th>PEDCYLCOUNT</th>\n",
       "      <th>VEHCOUNT</th>\n",
       "      <th>SDOT_COLCODE</th>\n",
       "      <th>INATTENTIONIND</th>\n",
       "      <th>...</th>\n",
       "      <th>SDOT_COLCODE_68</th>\n",
       "      <th>SDOT_COLCODE_69</th>\n",
       "      <th>INC_DATE_TIME</th>\n",
       "      <th>MONTH</th>\n",
       "      <th>DAY_OF_WEEK</th>\n",
       "      <th>DAY_OF_MONTH</th>\n",
       "      <th>YEAR</th>\n",
       "      <th>WEATHER_CAT</th>\n",
       "      <th>ROADCOND_CAT</th>\n",
       "      <th>LIGHTCOND_CAT</th>\n",
       "    </tr>\n",
       "  </thead>\n",
       "  <tbody>\n",
       "    <tr>\n",
       "      <th>153459</th>\n",
       "      <td>1</td>\n",
       "      <td>-122.325969</td>\n",
       "      <td>47.590310</td>\n",
       "      <td>1</td>\n",
       "      <td>4</td>\n",
       "      <td>0</td>\n",
       "      <td>0</td>\n",
       "      <td>2</td>\n",
       "      <td>14</td>\n",
       "      <td>0</td>\n",
       "      <td>...</td>\n",
       "      <td>0</td>\n",
       "      <td>0</td>\n",
       "      <td>2019-04-03 08:00:00</td>\n",
       "      <td>4</td>\n",
       "      <td>2</td>\n",
       "      <td>3</td>\n",
       "      <td>2019</td>\n",
       "      <td>1</td>\n",
       "      <td>0</td>\n",
       "      <td>5</td>\n",
       "    </tr>\n",
       "    <tr>\n",
       "      <th>34256</th>\n",
       "      <td>1</td>\n",
       "      <td>-122.329643</td>\n",
       "      <td>47.601718</td>\n",
       "      <td>1</td>\n",
       "      <td>2</td>\n",
       "      <td>0</td>\n",
       "      <td>0</td>\n",
       "      <td>2</td>\n",
       "      <td>11</td>\n",
       "      <td>0</td>\n",
       "      <td>...</td>\n",
       "      <td>0</td>\n",
       "      <td>0</td>\n",
       "      <td>2006-07-20 16:50:00</td>\n",
       "      <td>7</td>\n",
       "      <td>3</td>\n",
       "      <td>20</td>\n",
       "      <td>2006</td>\n",
       "      <td>1</td>\n",
       "      <td>0</td>\n",
       "      <td>5</td>\n",
       "    </tr>\n",
       "    <tr>\n",
       "      <th>158060</th>\n",
       "      <td>1</td>\n",
       "      <td>-122.317887</td>\n",
       "      <td>47.710770</td>\n",
       "      <td>1</td>\n",
       "      <td>2</td>\n",
       "      <td>0</td>\n",
       "      <td>0</td>\n",
       "      <td>2</td>\n",
       "      <td>13</td>\n",
       "      <td>0</td>\n",
       "      <td>...</td>\n",
       "      <td>0</td>\n",
       "      <td>0</td>\n",
       "      <td>2018-08-27 17:24:00</td>\n",
       "      <td>8</td>\n",
       "      <td>0</td>\n",
       "      <td>27</td>\n",
       "      <td>2018</td>\n",
       "      <td>2</td>\n",
       "      <td>0</td>\n",
       "      <td>5</td>\n",
       "    </tr>\n",
       "    <tr>\n",
       "      <th>95994</th>\n",
       "      <td>1</td>\n",
       "      <td>-122.317430</td>\n",
       "      <td>47.612916</td>\n",
       "      <td>1</td>\n",
       "      <td>2</td>\n",
       "      <td>0</td>\n",
       "      <td>0</td>\n",
       "      <td>2</td>\n",
       "      <td>13</td>\n",
       "      <td>0</td>\n",
       "      <td>...</td>\n",
       "      <td>0</td>\n",
       "      <td>0</td>\n",
       "      <td>2012-01-12 22:35:00</td>\n",
       "      <td>1</td>\n",
       "      <td>3</td>\n",
       "      <td>12</td>\n",
       "      <td>2012</td>\n",
       "      <td>1</td>\n",
       "      <td>0</td>\n",
       "      <td>2</td>\n",
       "    </tr>\n",
       "    <tr>\n",
       "      <th>69561</th>\n",
       "      <td>1</td>\n",
       "      <td>-122.313926</td>\n",
       "      <td>47.599015</td>\n",
       "      <td>1</td>\n",
       "      <td>3</td>\n",
       "      <td>0</td>\n",
       "      <td>0</td>\n",
       "      <td>2</td>\n",
       "      <td>14</td>\n",
       "      <td>0</td>\n",
       "      <td>...</td>\n",
       "      <td>0</td>\n",
       "      <td>0</td>\n",
       "      <td>2009-06-29 14:46:00</td>\n",
       "      <td>6</td>\n",
       "      <td>0</td>\n",
       "      <td>29</td>\n",
       "      <td>2009</td>\n",
       "      <td>1</td>\n",
       "      <td>0</td>\n",
       "      <td>5</td>\n",
       "    </tr>\n",
       "  </tbody>\n",
       "</table>\n",
       "<p>5 rows × 96 columns</p>\n",
       "</div>"
      ],
      "text/plain": [
       "        SEVERITYCODE           X          Y  SEVERITYCODE.1  PERSONCOUNT  \\\n",
       "153459             1 -122.325969  47.590310               1            4   \n",
       "34256              1 -122.329643  47.601718               1            2   \n",
       "158060             1 -122.317887  47.710770               1            2   \n",
       "95994              1 -122.317430  47.612916               1            2   \n",
       "69561              1 -122.313926  47.599015               1            3   \n",
       "\n",
       "        PEDCOUNT  PEDCYLCOUNT  VEHCOUNT  SDOT_COLCODE  INATTENTIONIND  ...  \\\n",
       "153459         0            0         2            14               0  ...   \n",
       "34256          0            0         2            11               0  ...   \n",
       "158060         0            0         2            13               0  ...   \n",
       "95994          0            0         2            13               0  ...   \n",
       "69561          0            0         2            14               0  ...   \n",
       "\n",
       "        SDOT_COLCODE_68 SDOT_COLCODE_69       INC_DATE_TIME MONTH  \\\n",
       "153459                0               0 2019-04-03 08:00:00     4   \n",
       "34256                 0               0 2006-07-20 16:50:00     7   \n",
       "158060                0               0 2018-08-27 17:24:00     8   \n",
       "95994                 0               0 2012-01-12 22:35:00     1   \n",
       "69561                 0               0 2009-06-29 14:46:00     6   \n",
       "\n",
       "        DAY_OF_WEEK  DAY_OF_MONTH  YEAR WEATHER_CAT  ROADCOND_CAT  \\\n",
       "153459            2             3  2019           1             0   \n",
       "34256             3            20  2006           1             0   \n",
       "158060            0            27  2018           2             0   \n",
       "95994             3            12  2012           1             0   \n",
       "69561             0            29  2009           1             0   \n",
       "\n",
       "        LIGHTCOND_CAT  \n",
       "153459              5  \n",
       "34256               5  \n",
       "158060              5  \n",
       "95994               2  \n",
       "69561               5  \n",
       "\n",
       "[5 rows x 96 columns]"
      ]
     },
     "execution_count": 63,
     "metadata": {},
     "output_type": "execute_result"
    }
   ],
   "source": [
    "resampled_df[\"WEATHER\"] = resampled_df[\"WEATHER\"].astype('category')\n",
    "resampled_df[\"ROADCOND\"] = resampled_df[\"ROADCOND\"].astype('category')\n",
    "resampled_df[\"LIGHTCOND\"] = resampled_df[\"LIGHTCOND\"].astype('category')\n",
    "\n",
    "# Assign variable to new column for analysis\n",
    "resampled_df[\"WEATHER_CAT\"] = resampled_df[\"WEATHER\"].cat.codes\n",
    "resampled_df[\"ROADCOND_CAT\"] = resampled_df[\"ROADCOND\"].cat.codes\n",
    "resampled_df[\"LIGHTCOND_CAT\"] = resampled_df[\"LIGHTCOND\"].cat.codes\n",
    "\n",
    "resampled_df.head(5)"
   ]
  },
  {
   "cell_type": "markdown",
   "metadata": {},
   "source": [
    "## Normalise the data"
   ]
  },
  {
   "cell_type": "code",
   "execution_count": 68,
   "metadata": {},
   "outputs": [
    {
     "data": {
      "text/plain": [
       "array([[1, 0, 5],\n",
       "       [1, 0, 5],\n",
       "       [2, 0, 5],\n",
       "       [1, 0, 2],\n",
       "       [1, 0, 5]], dtype=int8)"
      ]
     },
     "execution_count": 68,
     "metadata": {},
     "output_type": "execute_result"
    }
   ],
   "source": [
    "import numpy as np\n",
    "X = np.asarray(resampled_df[['WEATHER_CAT', 'ROADCOND_CAT', 'LIGHTCOND_CAT']])\n",
    "X[0:5]"
   ]
  },
  {
   "cell_type": "code",
   "execution_count": 70,
   "metadata": {},
   "outputs": [
    {
     "data": {
      "text/plain": [
       "array([[-0.7042462 , -0.62146666,  0.59522168],\n",
       "       [-0.7042462 , -0.62146666,  0.59522168],\n",
       "       [-0.22518216, -0.62146666,  0.59522168],\n",
       "       [-0.7042462 , -0.62146666, -1.48807001],\n",
       "       [-0.7042462 , -0.62146666,  0.59522168]])"
      ]
     },
     "execution_count": 70,
     "metadata": {},
     "output_type": "execute_result"
    }
   ],
   "source": [
    "from sklearn import preprocessing\n",
    "X = preprocessing.StandardScaler().fit(X).transform(X)\n",
    "X[0:5]"
   ]
  },
  {
   "cell_type": "code",
   "execution_count": 73,
   "metadata": {},
   "outputs": [
    {
     "data": {
      "text/plain": [
       "array([1, 1, 1, 1, 1], dtype=int64)"
      ]
     },
     "execution_count": 73,
     "metadata": {},
     "output_type": "execute_result"
    }
   ],
   "source": [
    "Y = np.asarray(resampled_df['SEVERITYCODE'])\n",
    "Y [0:5]"
   ]
  },
  {
   "cell_type": "markdown",
   "metadata": {},
   "source": [
    "## Split in to testing/training subsets"
   ]
  },
  {
   "cell_type": "code",
   "execution_count": 74,
   "metadata": {},
   "outputs": [
    {
     "name": "stdout",
     "output_type": "stream",
     "text": [
      "Train set: (76931, 3) (76931,)\n",
      "Test set: (32971, 3) (32971,)\n"
     ]
    }
   ],
   "source": [
    "# We split X and Y into train and test subsets\n",
    "from sklearn.model_selection import train_test_split\n",
    "X_train, X_test, Y_train, Y_test = train_test_split(X, Y, test_size=0.3, random_state=4)\n",
    "print ('Train set:', X_train.shape,  Y_train.shape)\n",
    "print ('Test set:', X_test.shape,  Y_test.shape)"
   ]
  },
  {
   "cell_type": "markdown",
   "metadata": {},
   "source": [
    "# Classification\n",
    "\n",
    "We now finally have a clean, balanced and standardised dataset for the Seattle area. Categorical variables have been converted to numerical variables using standard data processing techniques. We are finally ready to begin building and testing models for predicting _SEVERITYCODE_ from our chosen feature set. \n",
    "\n",
    "The four models which will be built, tested and compared are:\n",
    "\n",
    "1. k-Nearest Neighbours (kNN)\n",
    "2. Decision Tree\n",
    "3. Logistic Regression"
   ]
  },
  {
   "cell_type": "markdown",
   "metadata": {},
   "source": [
    "### K-Nearest Neighbors (KNN)"
   ]
  },
  {
   "cell_type": "code",
   "execution_count": 152,
   "metadata": {},
   "outputs": [],
   "source": [
    "# Building the KNN Model\n",
    "from sklearn.neighbors import KNeighborsClassifier\n",
    "\n",
    "k = 25"
   ]
  },
  {
   "cell_type": "code",
   "execution_count": 153,
   "metadata": {},
   "outputs": [
    {
     "data": {
      "text/plain": [
       "array([1, 1, 1, 1, 1], dtype=int64)"
      ]
     },
     "execution_count": 153,
     "metadata": {},
     "output_type": "execute_result"
    }
   ],
   "source": [
    "#Train Model & Predict  \n",
    "neigh = KNeighborsClassifier(n_neighbors = k).fit(X_train,Y_train)\n",
    "neigh\n",
    "\n",
    "Kyhat = neigh.predict(X_test)\n",
    "Kyhat[0:5]"
   ]
  },
  {
   "cell_type": "markdown",
   "metadata": {},
   "source": [
    "### Decision Tree"
   ]
  },
  {
   "cell_type": "code",
   "execution_count": 171,
   "metadata": {},
   "outputs": [
    {
     "data": {
      "text/plain": [
       "DecisionTreeClassifier(ccp_alpha=0.0, class_weight=None, criterion='entropy',\n",
       "                       max_depth=9, max_features=None, max_leaf_nodes=None,\n",
       "                       min_impurity_decrease=0.0, min_impurity_split=None,\n",
       "                       min_samples_leaf=1, min_samples_split=2,\n",
       "                       min_weight_fraction_leaf=0.0, presort='deprecated',\n",
       "                       random_state=None, splitter='best')"
      ]
     },
     "execution_count": 171,
     "metadata": {},
     "output_type": "execute_result"
    }
   ],
   "source": [
    "# Building the Decision Tree\n",
    "from sklearn.tree import DecisionTreeClassifier\n",
    "colDataTree = DecisionTreeClassifier(criterion=\"entropy\", max_depth = 9)\n",
    "colDataTree\n",
    "colDataTree.fit(X_train,Y_train)"
   ]
  },
  {
   "cell_type": "code",
   "execution_count": 172,
   "metadata": {},
   "outputs": [],
   "source": [
    "# Train Model & Predict\n",
    "DTyhat = colDataTree.predict(X_test)"
   ]
  },
  {
   "cell_type": "markdown",
   "metadata": {},
   "source": [
    "### Logistic Regression"
   ]
  },
  {
   "cell_type": "code",
   "execution_count": 159,
   "metadata": {
    "scrolled": true
   },
   "outputs": [
    {
     "data": {
      "text/plain": [
       "LogisticRegression(C=6, class_weight=None, dual=False, fit_intercept=True,\n",
       "                   intercept_scaling=1, l1_ratio=None, max_iter=100,\n",
       "                   multi_class='auto', n_jobs=None, penalty='l2',\n",
       "                   random_state=None, solver='liblinear', tol=0.0001, verbose=0,\n",
       "                   warm_start=False)"
      ]
     },
     "execution_count": 159,
     "metadata": {},
     "output_type": "execute_result"
    }
   ],
   "source": [
    "# Building the LR Model\n",
    "from sklearn.linear_model import LogisticRegression\n",
    "from sklearn.metrics import confusion_matrix\n",
    "LR = LogisticRegression(C=6, solver='liblinear').fit(X_train,Y_train)\n",
    "LR"
   ]
  },
  {
   "cell_type": "code",
   "execution_count": 160,
   "metadata": {},
   "outputs": [
    {
     "data": {
      "text/plain": [
       "array([2, 1, 2, ..., 1, 1, 1], dtype=int64)"
      ]
     },
     "execution_count": 160,
     "metadata": {},
     "output_type": "execute_result"
    }
   ],
   "source": [
    "# Train Model & Predicr\n",
    "LRyhat = LR.predict(X_test)\n",
    "LRyhat"
   ]
  },
  {
   "cell_type": "code",
   "execution_count": null,
   "metadata": {},
   "outputs": [],
   "source": [
    "yhat_prob = LR.predict_proba(X_test)\n",
    "yhat_prob"
   ]
  },
  {
   "cell_type": "code",
   "execution_count": null,
   "metadata": {},
   "outputs": [],
   "source": []
  },
  {
   "cell_type": "code",
   "execution_count": 161,
   "metadata": {},
   "outputs": [
    {
     "data": {
      "text/plain": [
       "array([[0.4937124 , 0.5062876 ],\n",
       "       [0.51957358, 0.48042642],\n",
       "       [0.4937124 , 0.5062876 ],\n",
       "       ...,\n",
       "       [0.53497271, 0.46502729],\n",
       "       [0.53497271, 0.46502729],\n",
       "       [0.53497271, 0.46502729]])"
      ]
     },
     "execution_count": 161,
     "metadata": {},
     "output_type": "execute_result"
    }
   ],
   "source": []
  },
  {
   "cell_type": "markdown",
   "metadata": {},
   "source": [
    "## Results & Evaluation"
   ]
  },
  {
   "cell_type": "markdown",
   "metadata": {},
   "source": [
    "Now we will check the accuracy of our models."
   ]
  },
  {
   "cell_type": "code",
   "execution_count": 162,
   "metadata": {},
   "outputs": [],
   "source": [
    "from sklearn.metrics import jaccard_similarity_score\n",
    "from sklearn.metrics import f1_score\n",
    "from sklearn.metrics import log_loss"
   ]
  },
  {
   "cell_type": "markdown",
   "metadata": {},
   "source": [
    "#### K-Nearest Neighbor"
   ]
  },
  {
   "cell_type": "code",
   "execution_count": 163,
   "metadata": {},
   "outputs": [
    {
     "name": "stderr",
     "output_type": "stream",
     "text": [
      "C:\\Users\\JAY\\Anaconda3\\lib\\site-packages\\sklearn\\metrics\\_classification.py:664: FutureWarning: jaccard_similarity_score has been deprecated and replaced with jaccard_score. It will be removed in version 0.23. This implementation has surprising behavior for binary and multiclass classification tasks.\n",
      "  FutureWarning)\n"
     ]
    },
    {
     "data": {
      "text/plain": [
       "0.49124988626368626"
      ]
     },
     "execution_count": 163,
     "metadata": {},
     "output_type": "execute_result"
    }
   ],
   "source": [
    "# Jaccard Similarity Score\n",
    "jaccard_similarity_score(Y_test, Kyhat)"
   ]
  },
  {
   "cell_type": "code",
   "execution_count": 164,
   "metadata": {},
   "outputs": [
    {
     "data": {
      "text/plain": [
       "0.47619870634644745"
      ]
     },
     "execution_count": 164,
     "metadata": {},
     "output_type": "execute_result"
    }
   ],
   "source": [
    "# F1-SCORE\n",
    "f1_score(Y_test, Kyhat, average='macro')"
   ]
  },
  {
   "cell_type": "markdown",
   "metadata": {},
   "source": [
    "<i>Model is most accurate when k is 25.</i>"
   ]
  },
  {
   "cell_type": "code",
   "execution_count": 173,
   "metadata": {},
   "outputs": [
    {
     "name": "stderr",
     "output_type": "stream",
     "text": [
      "C:\\Users\\JAY\\Anaconda3\\lib\\site-packages\\sklearn\\metrics\\_classification.py:664: FutureWarning: jaccard_similarity_score has been deprecated and replaced with jaccard_score. It will be removed in version 0.23. This implementation has surprising behavior for binary and multiclass classification tasks.\n",
      "  FutureWarning)\n"
     ]
    },
    {
     "data": {
      "text/plain": [
       "0.5183039640896545"
      ]
     },
     "execution_count": 173,
     "metadata": {},
     "output_type": "execute_result"
    }
   ],
   "source": [
    "# Jaccard Similarity Score\n",
    "jaccard_similarity_score(Y_test, DTyhat)"
   ]
  },
  {
   "cell_type": "code",
   "execution_count": 174,
   "metadata": {},
   "outputs": [
    {
     "data": {
      "text/plain": [
       "0.48114954074540683"
      ]
     },
     "execution_count": 174,
     "metadata": {},
     "output_type": "execute_result"
    }
   ],
   "source": [
    "# F1-SCORE\n",
    "f1_score(Y_test, DTyhat, average='macro')"
   ]
  },
  {
   "cell_type": "code",
   "execution_count": 149,
   "metadata": {},
   "outputs": [
    {
     "data": {
      "text/plain": [
       "0.5184556125079616"
      ]
     },
     "execution_count": 149,
     "metadata": {},
     "output_type": "execute_result"
    }
   ],
   "source": [
    "# Jaccard Similarity Score\n",
    "jaccard_similarity_score(Y_test, LRyhat)"
   ]
  },
  {
   "cell_type": "code",
   "execution_count": 150,
   "metadata": {},
   "outputs": [
    {
     "data": {
      "text/plain": [
       "0.4958071766854718"
      ]
     },
     "execution_count": 150,
     "metadata": {},
     "output_type": "execute_result"
    }
   ],
   "source": [
    "# F1-SCORE\n",
    "f1_score(Y_test, LRyhat, average='macro')"
   ]
  },
  {
   "cell_type": "code",
   "execution_count": 151,
   "metadata": {},
   "outputs": [
    {
     "data": {
      "text/plain": [
       "0.6921950516353936"
      ]
     },
     "execution_count": 151,
     "metadata": {},
     "output_type": "execute_result"
    }
   ],
   "source": [
    "# LOGLOSS\n",
    "yhat_prob = LR.predict_proba(X_test)\n",
    "log_loss(Y_test, yhat_prob)"
   ]
  },
  {
   "cell_type": "markdown",
   "metadata": {},
   "source": [
    "## Discussion"
   ]
  },
  {
   "cell_type": "markdown",
   "metadata": {},
   "source": [
    "In the beginning of this notebook, we had categorical data that was of type 'object'. This is not a data type that we could have fed through an algorithm, so label encoding was used to created new classes that were of type int8; a numerical data type."
   ]
  },
  {
   "cell_type": "markdown",
   "metadata": {},
   "source": [
    "After solving that issue we were presented with another - imbalanced data. As mentioned earlier, class 1 was nearly three times larger than class 2. The solution to this was downsampling the majority class with sklearn's resample tool. We downsampled to match the minority class exactly with 109902 values each."
   ]
  },
  {
   "cell_type": "markdown",
   "metadata": {},
   "source": [
    "Onace we analyzed and cleaned the data, it was then fed through three ML models; K-Nearest Neighbor, Decision Tree and Logistic Regression. Although the first two are ideal for this project, logistic regression made the most sense because of its binary nature."
   ]
  },
  {
   "cell_type": "markdown",
   "metadata": {},
   "source": [
    "Evaluation metrics used to test the accuracy of our models were jaccard index, f-1 score and logloss for logistic regression. Choosing different k, max depth and hyperamater C values helped to improve our accuracy to be the best possible."
   ]
  },
  {
   "cell_type": "markdown",
   "metadata": {},
   "source": [
    "## Conclusion"
   ]
  },
  {
   "cell_type": "markdown",
   "metadata": {},
   "source": [
    "__Based on historical data from weather conditions pointing to certain classes, we can conclude that particular weather conditions have a somewhat impact on whether or not travel could result in property damage (class 1) or injury (class 2).__"
   ]
  },
  {
   "cell_type": "code",
   "execution_count": null,
   "metadata": {},
   "outputs": [],
   "source": []
  }
 ],
 "metadata": {
  "kernelspec": {
   "display_name": "Python 3",
   "language": "python",
   "name": "python3"
  },
  "language_info": {
   "codemirror_mode": {
    "name": "ipython",
    "version": 3
   },
   "file_extension": ".py",
   "mimetype": "text/x-python",
   "name": "python",
   "nbconvert_exporter": "python",
   "pygments_lexer": "ipython3",
   "version": "3.7.3"
  }
 },
 "nbformat": 4,
 "nbformat_minor": 4
}
